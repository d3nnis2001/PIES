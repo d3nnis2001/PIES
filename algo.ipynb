{
 "cells": [
  {
   "attachments": {},
   "cell_type": "markdown",
   "metadata": {},
   "source": [
    "## Imports\n",
    "---"
   ]
  },
  {
   "cell_type": "code",
   "execution_count": 1,
   "metadata": {},
   "outputs": [],
   "source": [
    "import pandas as pd \n",
    "import numpy as np\n",
    "import matplotlib.pyplot as plt\n",
    "import seaborn as sns\n",
    "import math\n",
    "from datetime import datetime\n",
    "from src.heikin_ashi import heikin_ashi\n",
    "from src.indicators import supertrend, VWAP2, smc, wavetrend3d, atr\n",
    "from src.backtesting_lib import evaluatePairs\n",
    "import pandas_ta as ta\n",
    "import csv"
   ]
  },
  {
   "attachments": {},
   "cell_type": "markdown",
   "metadata": {},
   "source": [
    "## Getting the Data\n",
    "---"
   ]
  },
  {
   "cell_type": "code",
   "execution_count": 2,
   "metadata": {},
   "outputs": [],
   "source": [
    "auxusd = pd.read_csv(\"./data_directory/AUXUSD.csv\")\n",
    "auxusd['timestamp'] = pd.to_datetime(auxusd['timestamp'], unit='ms')\n",
    "auxusd['timestamp'] = pd.to_datetime(auxusd['timestamp'].apply(lambda x: x.strftime('%Y-%m-%d %H:%M:%S')))\n",
    "auxusd.set_index('timestamp', inplace=True)\n",
    "auxusd.drop_duplicates(inplace=True)"
   ]
  },
  {
   "cell_type": "code",
   "execution_count": 2,
   "metadata": {},
   "outputs": [],
   "source": [
    "usdjpy = pd.read_csv(\"./data_directory/USDJPY.csv\")\n",
    "usdjpy['timestamp'] = pd.to_datetime(usdjpy['timestamp'], unit='ms')\n",
    "usdjpy['timestamp'] = pd.to_datetime(usdjpy['timestamp'].apply(lambda x: x.strftime('%Y-%m-%d %H:%M:%S')))\n",
    "usdjpy.set_index('timestamp', inplace=True)\n",
    "usdjpy.drop_duplicates(inplace=True)"
   ]
  },
  {
   "cell_type": "code",
   "execution_count": 3,
   "metadata": {},
   "outputs": [],
   "source": [
    "eurgbp = pd.read_csv(\"./data_directory/EURGBP.csv\")\n",
    "eurgbp['timestamp'] = pd.to_datetime(eurgbp['timestamp'], unit='ms')\n",
    "eurgbp['timestamp'] = pd.to_datetime(eurgbp['timestamp'].apply(lambda x: x.strftime('%Y-%m-%d %H:%M:%S')))\n",
    "eurgbp.set_index('timestamp', inplace=True)\n",
    "eurgbp.drop_duplicates(inplace=True)"
   ]
  },
  {
   "cell_type": "code",
   "execution_count": 4,
   "metadata": {},
   "outputs": [],
   "source": [
    "forex_data = pd.read_csv(\"./data_directory/EURUSD_2021_2023.csv\")\n",
    "forex_data['timestamp'] = pd.to_datetime(forex_data['timestamp'], unit='ms')\n",
    "forex_data['timestamp'] = pd.to_datetime(forex_data['timestamp'].apply(lambda x: x.strftime('%Y-%m-%d %H:%M:%S')))\n",
    "forex_data.set_index('timestamp', inplace=True)\n",
    "forex_data.drop_duplicates(inplace=True)"
   ]
  },
  {
   "cell_type": "code",
   "execution_count": 37,
   "metadata": {},
   "outputs": [],
   "source": [
    "eurusd = pd.read_csv(\"./data_directory/EURUSD_NEW.csv\")\n",
    "eurusd.set_index(\"Date\", inplace=True)\n",
    "eurusd.index = pd.to_datetime(eurusd.index)\n",
    "eurusd.drop_duplicates(inplace=True)"
   ]
  },
  {
   "attachments": {},
   "cell_type": "markdown",
   "metadata": {},
   "source": [
    "# Kleines Tutorial für Backtesting.py\n",
    "\n",
    "Es besteht aus einen init part wo alle variablen definiert und initialisiert werden und einen next part wo der algorithmus nach und nach jede candle durchgeht. Dabei kann man die zurzeitige Candle mit __self.data.Close[-1]__ abrufen. Dir davor mit -2 usw. Ihr könnt außerdem dabei zwischen Close, Open, High, Low entscheiden. \n",
    "\n",
    "Um die zurzeitige Balance zu bekommen ruft ihr self.equity auf. \n",
    "\n",
    "Um Indicatoren hinzuzufügen habt ihr folgende Syntax:\n",
    "\n",
    "__self.IndicatorName = self.I(Indicator, Parameter1, Parameter2, ...)__\n",
    "\n",
    "Dabei könnt ihr die jetzigen Werte abrufen wie mit den Daten [-n],  $n \\in \\mathbb{N}$ .\n",
    "\n",
    "Um Trades einzugehen bentzt man entweder:\n",
    "\n",
    "__self.buy(size=deineGroesse)__ \n",
    "\n",
    "__self.sell(size=deineGroesse)__\n",
    "\n",
    "Ihr müsst dabei geachten das man entweder die Share anzahl als Integer übergebt oder die eine Kommazahl von $[0,1)$ die darstellt wie viel Prozent deines Portfolios du reinsetzt hast.\n",
    "\n",
    "um eine Position zu schließen benutzt ihr: \n",
    "\n",
    "__self.position.close()__\n",
    "\n",
    "Das sind so die wichtigsten Befehle. Leider lässt die libary nicht mehrere Positionen gleichzeitig. Falls ihr das umbedingt braucht kann ich nach einer anderen Libary ausschau halten. \n",
    "\n",
    "Falls ihr irgendwelche anderen Befehle braucht wie z.B. eine LimitOrder oder sowas dann findet ihr die unter den Documentations: \n",
    "\n",
    "- https://kernc.github.io/backtesting.py/doc/backtesting/backtesting.html#gsc.tab=0\n"
   ]
  },
  {
   "attachments": {},
   "cell_type": "markdown",
   "metadata": {},
   "source": [
    "## The Strategy\n",
    "---"
   ]
  },
  {
   "cell_type": "code",
   "execution_count": 38,
   "metadata": {},
   "outputs": [],
   "source": [
    "from backtesting import Backtest, Strategy\n",
    "from backtesting.lib import crossover\n",
    "import warnings\n",
    "import numpy as np\n",
    "\n",
    "warnings.filterwarnings(\"ignore\")\n",
    "\n",
    "\n",
    "\n",
    "class PIES(Strategy):\n",
    "\n",
    "    #Hier die Werte die ihr abändern könnt\n",
    "    shorts = True\n",
    "    longs = True\n",
    "    candlecountEntry = 10 # Nach wie vielen noch geschaut wird ob buy/sell signal kommt\n",
    "    stoplossCandles = 7 # Beim Entry -> Wie viele candles er nach hinten schauen soll für sl\n",
    "    tradehourStart = 6 #UTC Time\n",
    "    tradehourEnd = 22 #UTC Time\n",
    "    wavetrendOn = True\n",
    "    atr_window = 13\n",
    "    timeframeOBs = \"30T\"  #T for Minute and H for Hour\n",
    "    timeframeWavetrend = \"4H\"\n",
    "    cockOn = False\n",
    "    cockSize = 6\n",
    "    feesOn = True\n",
    "\n",
    "    def init(self):\n",
    "        # Store orderblock values\n",
    "        self.orderblocksU = []\n",
    "        self.orderblocksB = []\n",
    "        self.startKap = self.equity\n",
    "        # If orderblock got hit and price is above/below upperbands/lowerbands\n",
    "        self.tagged = False\n",
    "        self.taggedprice = 0\n",
    "        self.taggeddev = 0\n",
    "        self.length = len(self.data.df)\n",
    "        # Counter of how many candles it was ago when orderblock got tagged\n",
    "        self.taggedcounter = 0\n",
    "        # Overall candle count\n",
    "        self.candlecount = 17\n",
    "        self.trade_opened = False\n",
    "        self.index = 0\n",
    "        self.fees = 0\n",
    "        self.log = []\n",
    "        self.kapitalverfolgung = 1000000\n",
    "        self.stoploss = 0\n",
    "        self.sholong = 0  #0 stands for long trade and 1 for short trade\n",
    "        # Values that act as a buffer for the orderblocks after they got hit\n",
    "        self.orderblocklow = 0\n",
    "        self.orderblockhigh = 0 \n",
    "        self.done = True\n",
    "        self.lastKapital = self.equity\n",
    "        self.idk = self.data.df\n",
    "        self.enter = 0\n",
    "        # Supertrend Indicator\n",
    "        self.supertrendu = self.I(supertrend, self.data.df, 10, 2.5, 0)\n",
    "        self.supertrendl = self.I(supertrend, self.data.df, 10, 2.5, 1)\n",
    "        # VWAP Indicator\n",
    "        self.upperOB = self.I(smc, self.data.df, length=10, band=1, timeframe=self.timeframeOBs)\n",
    "        self.lowerOB = self.I(smc, self.data.df, length=10, band=0, timeframe=self.timeframeOBs)\n",
    "        self.wavetrendMirror = self.I(wavetrend3d, self.idk, self.cockSize,self.cockOn ,self.timeframeWavetrend, True)\n",
    "        self.wavetrend = self.I(wavetrend3d, self.idk, self.cockSize,self.cockOn ,self.timeframeWavetrend, False)\n",
    "        self.vwap = self.I(VWAP2, self.data.df, 0)\n",
    "        self.vwapu1 = self.I(VWAP2, self.data.df, 1)\n",
    "        self.vwapl1 = self.I(VWAP2, self.data.df, 2)\n",
    "        self.vwapu2 = self.I(VWAP2, self.data.df, 3)\n",
    "        self.vwapl2 = self.I(VWAP2, self.data.df, 4)\n",
    "        self.vwapu3 = self.I(VWAP2, self.data.df, 5)\n",
    "        self.vwapl3 = self.I(VWAP2, self.data.df, 6)\n",
    "        self.prevvalueU = 0\n",
    "        self.prevvalueB = 0\n",
    "        # ATR Indicator\n",
    "        self.atr = self.I(atr, self.data.df, self.atr_window)\n",
    "\n",
    "    def next(self):\n",
    "        # Add orderblocks\n",
    "        if(len(self.orderblocksB) > 0):\n",
    "            if(self.candlecount - self.orderblocksB[0][2] > 1000 and len(self.orderblocksB) > 1):\n",
    "                self.orderblocksB = self.orderblocksB[1:]\n",
    "        if(len(self.orderblocksU) > 0):\n",
    "            if(self.candlecount - self.orderblocksU[0][2] > 1000 and len(self.orderblocksU) > 1):\n",
    "                self.orderblocksU = self.orderblocksU[1:]\n",
    "        if(self.upperOB[-1] > 0 and self.upperOB[-1] != self.prevvalueU):\n",
    "            self.orderblocksU.append([self.data.High[-1], self.data.Low[-1], self.candlecount])\n",
    "            self.prevvalueU = self.upperOB[-1]\n",
    "        if(self.lowerOB[-1] > 0 and self.lowerOB[-1] != self.prevvalueB):\n",
    "            self.orderblocksB.append([self.data.High[-1], self.data.Low[-1], self.candlecount])\n",
    "            self.prevvalueB = self.lowerOB[-1]\n",
    "        # If no trade is open\n",
    "        if not self.trade_opened and self.data.index[-1].hour >= self.tradehourStart and self.data.index[-1].hour <= self.tradehourEnd:\n",
    "            # If it didnt hit orderblock + upper/lower band yet\n",
    "            if self.tagged==False:\n",
    "                # For loops to iterate through the orderblocks and check if they got hit\n",
    "                if self.shorts:\n",
    "                    if self.wavetrendMirror[-1] > self.wavetrend[-1] or self.wavetrendOn == False:\n",
    "                        for high, low, candle in self.orderblocksU:\n",
    "                            if self.data.High[-1] > low and self.data.High[-1] < high and self.candlecount - candle < 1000 and ((self.data.High[-1] > self.vwapu2[-1] - (self.atr[-1]/2) and self.data.High[-1] < self.vwapu2[-1] + (self.atr[-1]/2)) or (self.data.High[-1] > self.vwapu3[-1] - (self.atr[-1]/2) and self.data.High[-1] < self.vwapu3[-1] + (self.atr[-1]/2))):\n",
    "                                self.tagged = True\n",
    "                                if(self.data.High[-1] < self.vwapu2[-1] + (self.atr[-1]/2)):\n",
    "                                    self.taggeddev = 2\n",
    "                                else:\n",
    "                                    self.taggeddev = 3\n",
    "                                self.taggedprice = self.data.High[-1]\n",
    "                                self.orderblocklow = low\n",
    "                                self.sholong = 1\n",
    "                                self.orderblocksU.remove([high, low, candle])\n",
    "                                break\n",
    "                if self.longs:\n",
    "                    if self.wavetrendMirror[-1] < self.wavetrend[-1] or self.wavetrendOn == False:\n",
    "                        for high, low, candle in self.orderblocksB:\n",
    "                            if self.data.Low[-1] < high and self.data.Low[-1] > low and self.candlecount - candle < 1000 and ((self.data.Low[-1] < self.vwapl2[-1] + (self.atr[-1]/2) and self.data.Low[-1] > self.vwapl2[-1] - (self.atr[-1]/2)) or (self.data.Low[-1] < self.vwapl3[-1] + (self.atr[-1]/2) and self.data.Low[-1] > self.vwapl3[-1] - (self.atr[-1]/2))):\n",
    "                                self.tagged = True\n",
    "                                if(self.data.Low[-1] > self.vwapl2[-1] - (self.atr[-1]/2)):\n",
    "                                    self.taggeddev = 2\n",
    "                                else:\n",
    "                                    self.taggeddev = 3\n",
    "                                self.orderblockhigh = high\n",
    "                                self.sholong = 0\n",
    "                                self.taggedprice = self.data.Low[-1]\n",
    "                                self.orderblocksB.remove([high, low, candle])\n",
    "                                break\n",
    "\n",
    "            # If it hit and we have to go short\n",
    "            elif (self.tagged == True and self.sholong == 1):\n",
    "                # Heikin Ashi Candles)\n",
    "                ha_close = 1/4*(self.data.Open[-1] + self.data.Close[-1] + self.data.High[-1] + self.data.Low[-1])\n",
    "                ha_open = 1/2*(self.data.Open[-2] + self.data.Close[-2])\n",
    "                ha_high = max(self.data.High[-1], ha_open, ha_close)\n",
    "                ha_low = min(self.data.Low[-1], ha_open, ha_close)\n",
    "                if((self.data.High[-1] > self.vwapu2[-1] + (self.atr[-1]/2) and self.taggeddev == 2) or (self.data.High[-1] > self.vwapu3[-1] + (self.atr[-1]/2) and self.taggeddev == 3)):\n",
    "                    self.tagged = False\n",
    "                else:\n",
    "                    if self.taggedcounter < self.candlecountEntry:\n",
    "                        if self.data.High[-1] < self.orderblocklow and ha_open > (ha_high - ((ha_high - ha_low)*0.12) and self.data.Close[-1]>self.vwapu1[-1]):\n",
    "                            self.trade_opened = True\n",
    "                            self.stoploss = 0\n",
    "                            for i in range(1, self.stoplossCandles):\n",
    "                                if self.data.High[-i] > self.stoploss:\n",
    "                                    self.stoploss = self.data.High[-i]\n",
    "                            def berechnen(kapital, stoploss, entry):\n",
    "                                    diff = stoploss - entry\n",
    "                                    size = abs((kapital/10000) / diff)\n",
    "                                    return int(round(size,0))\n",
    "                            sizeO = berechnen(self.equity, self.stoploss, self.data.Close[-1])\n",
    "                            try:\n",
    "                                if(self.data.Close[-1]*sizeO < self.kapitalverfolgung):\n",
    "                                    self.kapitalverfolgung = self.kapitalverfolgung - self.data.Close[-1]*sizeO\n",
    "                                    self.index += 1\n",
    "                                    self.enter = self.data.Close[-1]\n",
    "                                    self.done = False\n",
    "                                self.sell(size=sizeO)\n",
    "                                if self.feesOn:\n",
    "                                    self.fees += sizeO * self.data.Close[-1] * 3 / 100000\n",
    "                            except:\n",
    "                                print(\"Something went wrong\")\n",
    "                        self.taggedcounter += 1\n",
    "                    else: \n",
    "                        self.tagged = False\n",
    "                        self.taggedcounter = 0\n",
    "            # If it hit and we have to go long\n",
    "            elif (self.tagged == True and self.sholong == 0):\n",
    "                # Heikin Ashi Candles\n",
    "                ha_close = 1/4*(self.data.Open[-1] + self.data.Close[-1] + self.data.High[-1] + self.data.Low[-1])\n",
    "                ha_open = 1/2*(self.data.Open[-2] + self.data.Close[-2])\n",
    "                ha_high = max(self.data.High[-1], ha_open, ha_close)\n",
    "                ha_low = min(self.data.Low[-1], ha_open, ha_close)\n",
    "                if((self.data.Low[-1] < self.vwapl2[-1] - (self.atr[-1]/2) and self.taggeddev == 2) or (self.data.Low[-1] < self.vwapl3[-1] - (self.atr[-1]/2) and self.taggeddev == 3)):\n",
    "                    self.tagged = False\n",
    "                else:\n",
    "                    if self.taggedcounter < self.candlecountEntry:\n",
    "                        if self.data.Low[-1] > self.orderblockhigh and ha_open < (ha_low + (ha_high - ha_low) * 0.12) and self.data.Close[-1]<self.vwapl1[-1]:\n",
    "                            self.stoploss = 1000000 # Set stoploss to high value\n",
    "                            self.trade_opened = True\n",
    "                            for i in range(1, self.stoplossCandles):\n",
    "                                if self.data.Low[-i] < self.stoploss:\n",
    "                                    self.stoploss = self.data.Low[-i]\n",
    "                            def berechnen(kapital, stoploss, entry):\n",
    "                                diff = abs(stoploss - entry)\n",
    "                                size = abs((kapital/10000) / diff)\n",
    "                                return int(round(size,0))\n",
    "                            sizeO = berechnen(self.equity, self.stoploss, self.data.Close[-1])\n",
    "                            try:\n",
    "                                if(self.data.Close[-1]*sizeO < self.kapitalverfolgung):\n",
    "                                    self.kapitalverfolgung = self.kapitalverfolgung - self.data.Close[-1]*sizeO\n",
    "                                    self.index += 1\n",
    "                                    self.enter = self.data.Close[-1]\n",
    "                                    self.done = False\n",
    "                                self.buy(size=sizeO)\n",
    "                                if self.feesOn:\n",
    "                                    self.fees += sizeO * self.data.Close[-1] * 3 / 100000\n",
    "                            except:\n",
    "                                print(\"Something went wrong\")\n",
    "                            self.trade_opened = True\n",
    "                        self.taggedcounter += 1\n",
    "                    else: \n",
    "                        self.tagged = False\n",
    "                        self.taggedcounter = 0\n",
    "        \n",
    "        elif self.trade_opened: # Stop loss path\n",
    "            if self.sholong == 0:\n",
    "                if(self.data.Low[-1] < self.stoploss and not self.done):\n",
    "                    temp = self.stoploss * abs(self.position.size)\n",
    "                    fees = temp - (temp * 3/100000)\n",
    "                    self.kapitalverfolgung = self.kapitalverfolgung + fees\n",
    "                    self.done = True\n",
    "                    self.log.append([self.data.index[-1], self.index, self.kapitalverfolgung, self.position.size, self.enter, self.stoploss, \"Long\", self.kapitalverfolgung - self.lastKapital])\n",
    "                    self.lastKapital = self.kapitalverfolgung\n",
    "                elif(self.supertrendl[-2] > 0 and self.supertrendu[-1] > 0 and not self.done):\n",
    "                    temp = self.data.Close[-1] * abs(self.position.size)\n",
    "                    fees = temp - (temp * 3/100000)\n",
    "                    self.kapitalverfolgung = self.kapitalverfolgung + fees\n",
    "                    self.done = True\n",
    "                    self.log.append([self.data.index[-1], self.index, self.kapitalverfolgung, self.position.size, self.enter, self.stoploss, \"Long\", self.kapitalverfolgung - self.lastKapital])   \n",
    "                    self.lastKapital = self.kapitalverfolgung\n",
    "                if(self.supertrendl[-2] > 0 and self.supertrendu[-1] > 0) or self.data.Close[-1] < self.stoploss:\n",
    "                    self.position.close()\n",
    "                    self.trade_opened = False\n",
    "                    self.tagged = False\n",
    "            elif self.sholong == 1:\n",
    "                if(self.data.High[-1] > self.stoploss and not self.done):\n",
    "                    temp = (self.enter - (self.stoploss - self.enter)) * abs(self.position.size)\n",
    "                    fees = temp - (temp * 3/100000)\n",
    "                    self.kapitalverfolgung = self.kapitalverfolgung + fees\n",
    "                    self.done = True\n",
    "                    self.log.append([self.data.index[-1], self.index, self.kapitalverfolgung, self.position.size, self.enter, self.stoploss, \"Short\", self.kapitalverfolgung - self.lastKapital])\n",
    "                    self.lastKapital = self.kapitalverfolgung\n",
    "                elif(self.supertrendu[-2] > 0 and self.supertrendl[-1] > 0 and not self.done):\n",
    "                    temp = (self.enter + (self.enter - self.data.Close[-1])) * abs(self.position.size)\n",
    "                    fees = temp - (temp * 3/100000)\n",
    "                    self.kapitalverfolgung = self.kapitalverfolgung + fees\n",
    "                    self.done = True\n",
    "                    self.log.append([self.data.index[-1], self.index, self.kapitalverfolgung, self.position.size, self.enter, self.stoploss, \"Short\", self.kapitalverfolgung - self.lastKapital])\n",
    "                    self.lastKapital = self.kapitalverfolgung\n",
    "                if(self.supertrendu[-2] > 0 and self.supertrendl[-1] > 0) or self.data.Close[-1] > self.stoploss:\n",
    "                    self.position.close()\n",
    "                    self.trade_opened = False\n",
    "                    self.tagged = False\n",
    "        self.candlecount = self.candlecount + 1\n",
    "        if(len(self.data.Close) == self.length):\n",
    "            print(f\"Die Fees betragen: {self.fees}\")\n",
    "            headers = ['Time', 'Index', 'Equity', 'Shares', 'Entry', 'Stoploss', 'Short or Long', 'Profit']\n",
    "            def save_list_as_csv(data_list, file_path):\n",
    "                with open(file_path, \"w\", newline='') as csvfile:\n",
    "                    writer = csv.writer(csvfile)\n",
    "                    writer.writerow(headers)\n",
    "                    for item in data_list:\n",
    "                        formatted_row = [\n",
    "                            str(item[0]),  # Convert the timestamp to string format\n",
    "                            item[1],\n",
    "                            \"{:.4f}\".format(item[2]), \n",
    "                            item[3],\n",
    "                            \"{:.5f}\".format(item[4]),\n",
    "                            \"{:.5f}\".format(item[5]),\n",
    "                            item[6],\n",
    "                            \"{:.4f}\".format(item[7])\n",
    "                        ]\n",
    "                        writer.writerow(formatted_row)\n",
    "            folder_path = \"./results_lists/\"\n",
    "            file_name = \"list.csv\"\n",
    "            file_path = folder_path + file_name\n",
    "            save_list_as_csv(self.log, file_path)"
   ]
  },
  {
   "cell_type": "code",
   "execution_count": 37,
   "metadata": {},
   "outputs": [
    {
     "name": "stdout",
     "output_type": "stream",
     "text": [
      "Die Fees betragen: 4330.143934260004\n"
     ]
    },
    {
     "data": {
      "text/plain": [
       "Start                     2013-06-05 00:00:00\n",
       "End                       2023-06-03 12:24:00\n",
       "Duration                   3650 days 12:24:00\n",
       "Exposure Time [%]                    1.911918\n",
       "Equity Final [$]                  1027371.735\n",
       "Equity Peak [$]                   1030044.415\n",
       "Return [%]                           2.737173\n",
       "Buy & Hold Return [%]               39.878453\n",
       "Return (Ann.) [%]                    0.214966\n",
       "Volatility (Ann.) [%]                0.212212\n",
       "Sharpe Ratio                         1.012977\n",
       "Sortino Ratio                        3.181973\n",
       "Calmar Ratio                         0.813684\n",
       "Max. Drawdown [%]                   -0.264189\n",
       "Avg. Drawdown [%]                   -0.020293\n",
       "Max. Drawdown Duration      459 days 21:06:00\n",
       "Avg. Drawdown Duration       12 days 07:14:00\n",
       "# Trades                                  669\n",
       "Win Rate [%]                        44.693572\n",
       "Best Trade [%]                       2.018635\n",
       "Worst Trade [%]                     -0.440192\n",
       "Avg. Trade [%]                       0.024247\n",
       "Max. Trade Duration           2 days 07:24:00\n",
       "Avg. Trade Duration           0 days 02:06:00\n",
       "Profit Factor                        1.672245\n",
       "Expectancy [%]                       0.024406\n",
       "SQN                                  3.612276\n",
       "_strategy                                PIES\n",
       "_equity_curve                             ...\n",
       "_trades                        Size  Entry...\n",
       "dtype: object"
      ]
     },
     "execution_count": 37,
     "metadata": {},
     "output_type": "execute_result"
    }
   ],
   "source": [
    "bt2 = Backtest(usdjpy, PIES, cash=1000000, commission=0.00, exclusive_orders=True)\n",
    "output2 = bt2.run()\n",
    "output2"
   ]
  },
  {
   "cell_type": "code",
   "execution_count": 60,
   "metadata": {},
   "outputs": [
    {
     "data": {
      "text/html": [
       "<div style=\"display: table;\"><div style=\"display: table-row;\"><div style=\"display: table-cell;\"><b title=\"bokeh.models.plots.GridPlot\">GridPlot</b>(</div><div style=\"display: table-cell;\">id&nbsp;=&nbsp;'p1996', <span id=\"p2972\" style=\"cursor: pointer;\">&hellip;)</span></div></div><div class=\"p2971\" style=\"display: none;\"><div style=\"display: table-cell;\"></div><div style=\"display: table-cell;\">align&nbsp;=&nbsp;'auto',</div></div><div class=\"p2971\" style=\"display: none;\"><div style=\"display: table-cell;\"></div><div style=\"display: table-cell;\">aspect_ratio&nbsp;=&nbsp;None,</div></div><div class=\"p2971\" style=\"display: none;\"><div style=\"display: table-cell;\"></div><div style=\"display: table-cell;\">children&nbsp;=&nbsp;[(figure(id='p1061', ...), 0, 0), (figure(id='p1174', ...), 1, 0), (figure(id='p1002', ...), 2, 0), (figure(id='p1246', ...), 3, 0), (figure(id='p1358', ...), 4, 0), (figure(id='p1418', ...), 5, 0), (figure(id='p1498', ...), 6, 0), (figure(id='p1559', ...), 7, 0), (figure(id='p1690', ...), 8, 0)],</div></div><div class=\"p2971\" style=\"display: none;\"><div style=\"display: table-cell;\"></div><div style=\"display: table-cell;\">cols&nbsp;=&nbsp;None,</div></div><div class=\"p2971\" style=\"display: none;\"><div style=\"display: table-cell;\"></div><div style=\"display: table-cell;\">context_menu&nbsp;=&nbsp;None,</div></div><div class=\"p2971\" style=\"display: none;\"><div style=\"display: table-cell;\"></div><div style=\"display: table-cell;\">css_classes&nbsp;=&nbsp;[],</div></div><div class=\"p2971\" style=\"display: none;\"><div style=\"display: table-cell;\"></div><div style=\"display: table-cell;\">disabled&nbsp;=&nbsp;False,</div></div><div class=\"p2971\" style=\"display: none;\"><div style=\"display: table-cell;\"></div><div style=\"display: table-cell;\">flow_mode&nbsp;=&nbsp;'block',</div></div><div class=\"p2971\" style=\"display: none;\"><div style=\"display: table-cell;\"></div><div style=\"display: table-cell;\">height&nbsp;=&nbsp;None,</div></div><div class=\"p2971\" style=\"display: none;\"><div style=\"display: table-cell;\"></div><div style=\"display: table-cell;\">height_policy&nbsp;=&nbsp;'auto',</div></div><div class=\"p2971\" style=\"display: none;\"><div style=\"display: table-cell;\"></div><div style=\"display: table-cell;\">js_event_callbacks&nbsp;=&nbsp;{},</div></div><div class=\"p2971\" style=\"display: none;\"><div style=\"display: table-cell;\"></div><div style=\"display: table-cell;\">js_property_callbacks&nbsp;=&nbsp;{},</div></div><div class=\"p2971\" style=\"display: none;\"><div style=\"display: table-cell;\"></div><div style=\"display: table-cell;\">margin&nbsp;=&nbsp;None,</div></div><div class=\"p2971\" style=\"display: none;\"><div style=\"display: table-cell;\"></div><div style=\"display: table-cell;\">max_height&nbsp;=&nbsp;None,</div></div><div class=\"p2971\" style=\"display: none;\"><div style=\"display: table-cell;\"></div><div style=\"display: table-cell;\">max_width&nbsp;=&nbsp;None,</div></div><div class=\"p2971\" style=\"display: none;\"><div style=\"display: table-cell;\"></div><div style=\"display: table-cell;\">min_height&nbsp;=&nbsp;None,</div></div><div class=\"p2971\" style=\"display: none;\"><div style=\"display: table-cell;\"></div><div style=\"display: table-cell;\">min_width&nbsp;=&nbsp;None,</div></div><div class=\"p2971\" style=\"display: none;\"><div style=\"display: table-cell;\"></div><div style=\"display: table-cell;\">name&nbsp;=&nbsp;None,</div></div><div class=\"p2971\" style=\"display: none;\"><div style=\"display: table-cell;\"></div><div style=\"display: table-cell;\">resizable&nbsp;=&nbsp;False,</div></div><div class=\"p2971\" style=\"display: none;\"><div style=\"display: table-cell;\"></div><div style=\"display: table-cell;\">rows&nbsp;=&nbsp;None,</div></div><div class=\"p2971\" style=\"display: none;\"><div style=\"display: table-cell;\"></div><div style=\"display: table-cell;\">sizing_mode&nbsp;=&nbsp;'stretch_width',</div></div><div class=\"p2971\" style=\"display: none;\"><div style=\"display: table-cell;\"></div><div style=\"display: table-cell;\">spacing&nbsp;=&nbsp;0,</div></div><div class=\"p2971\" style=\"display: none;\"><div style=\"display: table-cell;\"></div><div style=\"display: table-cell;\">styles&nbsp;=&nbsp;{},</div></div><div class=\"p2971\" style=\"display: none;\"><div style=\"display: table-cell;\"></div><div style=\"display: table-cell;\">stylesheets&nbsp;=&nbsp;[],</div></div><div class=\"p2971\" style=\"display: none;\"><div style=\"display: table-cell;\"></div><div style=\"display: table-cell;\">subscribed_events&nbsp;=&nbsp;PropertyValueSet(),</div></div><div class=\"p2971\" style=\"display: none;\"><div style=\"display: table-cell;\"></div><div style=\"display: table-cell;\">syncable&nbsp;=&nbsp;True,</div></div><div class=\"p2971\" style=\"display: none;\"><div style=\"display: table-cell;\"></div><div style=\"display: table-cell;\">tags&nbsp;=&nbsp;[],</div></div><div class=\"p2971\" style=\"display: none;\"><div style=\"display: table-cell;\"></div><div style=\"display: table-cell;\">toolbar&nbsp;=&nbsp;Toolbar(id='p1995', ...),</div></div><div class=\"p2971\" style=\"display: none;\"><div style=\"display: table-cell;\"></div><div style=\"display: table-cell;\">toolbar_location&nbsp;=&nbsp;'right',</div></div><div class=\"p2971\" style=\"display: none;\"><div style=\"display: table-cell;\"></div><div style=\"display: table-cell;\">visible&nbsp;=&nbsp;True,</div></div><div class=\"p2971\" style=\"display: none;\"><div style=\"display: table-cell;\"></div><div style=\"display: table-cell;\">width&nbsp;=&nbsp;None,</div></div><div class=\"p2971\" style=\"display: none;\"><div style=\"display: table-cell;\"></div><div style=\"display: table-cell;\">width_policy&nbsp;=&nbsp;'auto')</div></div></div>\n",
       "<script>\n",
       "(function() {\n",
       "  let expanded = false;\n",
       "  const ellipsis = document.getElementById(\"p2972\");\n",
       "  ellipsis.addEventListener(\"click\", function() {\n",
       "    const rows = document.getElementsByClassName(\"p2971\");\n",
       "    for (let i = 0; i < rows.length; i++) {\n",
       "      const el = rows[i];\n",
       "      el.style.display = expanded ? \"none\" : \"table-row\";\n",
       "    }\n",
       "    ellipsis.innerHTML = expanded ? \"&hellip;)\" : \"&lsaquo;&lsaquo;&lsaquo;\";\n",
       "    expanded = !expanded;\n",
       "  });\n",
       "})();\n",
       "</script>\n"
      ],
      "text/plain": [
       "GridPlot(id='p1996', ...)"
      ]
     },
     "execution_count": 60,
     "metadata": {},
     "output_type": "execute_result"
    }
   ],
   "source": [
    "bt2.plot()"
   ]
  },
  {
   "attachments": {},
   "cell_type": "markdown",
   "metadata": {},
   "source": [
    "# Parameter Optimization\n",
    "---"
   ]
  },
  {
   "cell_type": "code",
   "execution_count": 29,
   "metadata": {},
   "outputs": [
    {
     "data": {
      "application/vnd.jupyter.widget-view+json": {
       "model_id": "b27e678ed5184e018c111e7c220d959b",
       "version_major": 2,
       "version_minor": 0
      },
      "text/plain": [
       "  0%|          | 0/8 [00:00<?, ?it/s]"
      ]
     },
     "metadata": {},
     "output_type": "display_data"
    }
   ],
   "source": [
    "bt = Backtest(usdjpy, PIES, cash=1000000, commission=0.00, exclusive_orders=True)\n",
    "output = bt.run()\n",
    "\n",
    "stats, heatmap = bt.optimize(\n",
    "    timeframeOBs = [\"3T\", \"15T\", \"30T\", \"1H\"],\n",
    "    timeframeWavetrend = [\"3T\", \"15T\", \"30T\", \"1H\", \"2H\", \"4H\"],\n",
    "    maximize='Sharpe Ratio',\n",
    "    max_tries=100,\n",
    "    return_heatmap=True,\n",
    "    random_state=0,\n",
    ")"
   ]
  },
  {
   "attachments": {},
   "cell_type": "markdown",
   "metadata": {},
   "source": [
    "## Get 3 best results"
   ]
  },
  {
   "cell_type": "code",
   "execution_count": 31,
   "metadata": {},
   "outputs": [
    {
     "data": {
      "text/html": [
       "<div>\n",
       "<style scoped>\n",
       "    .dataframe tbody tr th:only-of-type {\n",
       "        vertical-align: middle;\n",
       "    }\n",
       "\n",
       "    .dataframe tbody tr th {\n",
       "        vertical-align: top;\n",
       "    }\n",
       "\n",
       "    .dataframe thead th {\n",
       "        text-align: right;\n",
       "    }\n",
       "</style>\n",
       "<table border=\"1\" class=\"dataframe\">\n",
       "  <thead>\n",
       "    <tr style=\"text-align: right;\">\n",
       "      <th>timeframeOBs</th>\n",
       "      <th>15T</th>\n",
       "      <th>1H</th>\n",
       "      <th>30T</th>\n",
       "      <th>3T</th>\n",
       "    </tr>\n",
       "    <tr>\n",
       "      <th>timeframeWavetrend</th>\n",
       "      <th></th>\n",
       "      <th></th>\n",
       "      <th></th>\n",
       "      <th></th>\n",
       "    </tr>\n",
       "  </thead>\n",
       "  <tbody>\n",
       "    <tr>\n",
       "      <th>15T</th>\n",
       "      <td>0.111697</td>\n",
       "      <td>0.000000</td>\n",
       "      <td>0.304934</td>\n",
       "      <td>0.000000</td>\n",
       "    </tr>\n",
       "    <tr>\n",
       "      <th>1H</th>\n",
       "      <td>0.761833</td>\n",
       "      <td>0.281731</td>\n",
       "      <td>0.311259</td>\n",
       "      <td>0.000000</td>\n",
       "    </tr>\n",
       "    <tr>\n",
       "      <th>2H</th>\n",
       "      <td>0.912780</td>\n",
       "      <td>0.424975</td>\n",
       "      <td>0.588096</td>\n",
       "      <td>0.142120</td>\n",
       "    </tr>\n",
       "    <tr>\n",
       "      <th>30T</th>\n",
       "      <td>0.693580</td>\n",
       "      <td>0.356641</td>\n",
       "      <td>0.415475</td>\n",
       "      <td>0.112197</td>\n",
       "    </tr>\n",
       "    <tr>\n",
       "      <th>3T</th>\n",
       "      <td>0.379758</td>\n",
       "      <td>0.101599</td>\n",
       "      <td>0.598511</td>\n",
       "      <td>0.000000</td>\n",
       "    </tr>\n",
       "    <tr>\n",
       "      <th>4H</th>\n",
       "      <td>1.114119</td>\n",
       "      <td>0.640418</td>\n",
       "      <td>1.012977</td>\n",
       "      <td>0.000000</td>\n",
       "    </tr>\n",
       "  </tbody>\n",
       "</table>\n",
       "</div>"
      ],
      "text/plain": [
       "timeframeOBs             15T        1H       30T        3T\n",
       "timeframeWavetrend                                        \n",
       "15T                 0.111697  0.000000  0.304934  0.000000\n",
       "1H                  0.761833  0.281731  0.311259  0.000000\n",
       "2H                  0.912780  0.424975  0.588096  0.142120\n",
       "30T                 0.693580  0.356641  0.415475  0.112197\n",
       "3T                  0.379758  0.101599  0.598511  0.000000\n",
       "4H                  1.114119  0.640418  1.012977  0.000000"
      ]
     },
     "execution_count": 31,
     "metadata": {},
     "output_type": "execute_result"
    }
   ],
   "source": [
    "hm = heatmap.groupby(['timeframeWavetrend', 'timeframeOBs']).mean().unstack()\n",
    "hm"
   ]
  },
  {
   "cell_type": "code",
   "execution_count": 32,
   "metadata": {},
   "outputs": [
    {
     "data": {
      "text/plain": [
       "<Axes: xlabel='timeframeOBs', ylabel='timeframeWavetrend'>"
      ]
     },
     "execution_count": 32,
     "metadata": {},
     "output_type": "execute_result"
    },
    {
     "data": {
      "image/png": "[encoded data removed]",
      "text/plain": [
       "<Figure size 640x480 with 2 Axes>"
      ]
     },
     "metadata": {},
     "output_type": "display_data"
    }
   ],
   "source": [
    "%matplotlib inline\n",
    "\n",
    "sns.heatmap(hm[::1], cmap='viridis')"
   ]
  },
  {
   "attachments": {},
   "cell_type": "markdown",
   "metadata": {},
   "source": [
    "# Plotting and evaluating CSVs\n",
    "---"
   ]
  },
  {
   "cell_type": "code",
   "execution_count": 19,
   "metadata": {},
   "outputs": [
    {
     "data": {
      "text/plain": [
       "2.3848155720636837"
      ]
     },
     "execution_count": 19,
     "metadata": {},
     "output_type": "execute_result"
    }
   ],
   "source": [
    "\n",
    "# read csv file from results_lists folder\n",
    "df = pd.read_csv('./results_lists/list.csv')\n",
    "\n",
    "def calculate_rrr(profits_df):\n",
    "    # Filter positive and negative profits\n",
    "    gains = profits_df[profits_df['Profit'] > 0]['Profit']\n",
    "    losses = profits_df[profits_df['Profit'] < 0]['Profit']\n",
    "\n",
    "    # Calculate average gain and average loss\n",
    "    average_gain = gains.mean()\n",
    "    average_loss = losses.mean()\n",
    "\n",
    "    # Calculate RRR\n",
    "    rrr = abs(average_gain / average_loss)\n",
    "\n",
    "    return rrr\n",
    "\n",
    "calculate_rrr(df)"
   ]
  },
  {
   "cell_type": "code",
   "execution_count": 9,
   "metadata": {},
   "outputs": [
    {
     "data": {
      "image/png": "[encoded data removed]",
      "text/plain": [
       "<Figure size 2000x1000 with 1 Axes>"
      ]
     },
     "metadata": {},
     "output_type": "display_data"
    }
   ],
   "source": [
    "df = pd.read_csv('./results_lists/list.csv')\n",
    "\n",
    "plt.figure(figsize=(20, 10))\n",
    "plt.plot(df['Equity'], color='red') \n",
    "plt.xlabel('Trades')  \n",
    "plt.ylabel('Equity') \n",
    "plt.show()"
   ]
  },
  {
   "attachments": {},
   "cell_type": "markdown",
   "metadata": {},
   "source": [
    "# Backtesting multiple pairs at the same time\n",
    "---"
   ]
  },
  {
   "cell_type": "code",
   "execution_count": null,
   "metadata": {},
   "outputs": [],
   "source": [
    "pairsList = [\"AUXUSD\", \"EURUSD_2021_2023\"]\n",
    " \n",
    "evaluatePairs(pairsList, PIES)"
   ]
  },
  {
   "attachments": {},
   "cell_type": "markdown",
   "metadata": {},
   "source": [
    "    Zinseszins bei backtest und bei csv\n",
    "    "
   ]
  }
 ],
 "metadata": {
  "kernelspec": {
   "display_name": "Python 3",
   "language": "python",
   "name": "python3"
  },
  "language_info": {
   "codemirror_mode": {
    "name": "ipython",
    "version": 3
   },
   "file_extension": ".py",
   "mimetype": "text/x-python",
   "name": "python",
   "nbconvert_exporter": "python",
   "pygments_lexer": "ipython3",
   "version": "3.8.16"
  },
  "orig_nbformat": 4
 },
 "nbformat": 4,
 "nbformat_minor": 2
}
