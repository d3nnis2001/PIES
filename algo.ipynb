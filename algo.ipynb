{
 "cells": [
  {
   "attachments": {},
   "cell_type": "markdown",
   "metadata": {},
   "source": [
    "## Imports\n",
    "---"
   ]
  },
  {
   "cell_type": "code",
   "execution_count": null,
   "metadata": {},
   "outputs": [],
   "source": [
    "import pandas as pd \n",
    "import numpy as np\n",
    "import matplotlib.pyplot as plt\n",
    "import seaborn as sns\n",
    "import math\n",
    "from datetime import datetime\n",
    "from src.heikin_ashi import heikin_ashi\n",
    "from src.indicators import supertrend, VWAP2, smc, wavetrend3d, atr, pivotPoints, choch, find_extrema, vwma\n",
    "from src.backtesting_lib import evaluatePairs, format_data\n",
    "import pandas_ta as ta\n",
    "from scipy.signal import argrelextrema\n",
    "import csv\n",
    "import plotly.graph_objects as go\n",
    "import plotly.express as px\n",
    "import numba\n",
    "from numba import jit"
   ]
  },
  {
   "attachments": {},
   "cell_type": "markdown",
   "metadata": {},
   "source": [
    "## Getting the Data\n",
    "---"
   ]
  },
  {
   "attachments": {},
   "cell_type": "markdown",
   "metadata": {},
   "source": [
    "# Kleines Tutorial für Backtesting.py\n",
    "\n",
    "Es besteht aus einen init part wo alle variablen definiert und initialisiert werden und einen next part wo der algorithmus nach und nach jede candle durchgeht. Dabei kann man die zurzeitige Candle mit __self.data.Close[-1]__ abrufen. Dir davor mit -2 usw. Ihr könnt außerdem dabei zwischen Close, Open, High, Low entscheiden. \n",
    "\n",
    "Um die zurzeitige Balance zu bekommen ruft ihr self.equity auf. \n",
    "\n",
    "Um Indicatoren hinzuzufügen habt ihr folgende Syntax:\n",
    "\n",
    "__self.IndicatorName = self.I(Indicator, Parameter1, Parameter2, ...)__\n",
    "\n",
    "Dabei könnt ihr die jetzigen Werte abrufen wie mit den Daten [-n],  $n \\in \\mathbb{N}$ .\n",
    "\n",
    "Um Trades einzugehen bentzt man entweder:\n",
    "\n",
    "__self.buy(size=deineGroesse)__ \n",
    "\n",
    "__self.sell(size=deineGroesse)__\n",
    "\n",
    "Ihr müsst dabei geachten das man entweder die Share anzahl als Integer übergebt oder die eine Kommazahl von $[0,1)$ die darstellt wie viel Prozent deines Portfolios du reinsetzt hast.\n",
    "\n",
    "um eine Position zu schließen benutzt ihr: \n",
    "\n",
    "__self.position.close()__\n",
    "\n",
    "Das sind so die wichtigsten Befehle. Leider lässt die libary nicht mehrere Positionen gleichzeitig. Falls ihr das umbedingt braucht kann ich nach einer anderen Libary ausschau halten. \n",
    "\n",
    "Falls ihr irgendwelche anderen Befehle braucht wie z.B. eine LimitOrder oder sowas dann findet ihr die unter den Documentations: \n",
    "\n",
    "- https://kernc.github.io/backtesting.py/doc/backtesting/backtesting.html#gsc.tab=0\n"
   ]
  },
  {
   "attachments": {},
   "cell_type": "markdown",
   "metadata": {},
   "source": [
    "## The Strategy\n",
    "---"
   ]
  },
  {
   "cell_type": "code",
   "execution_count": null,
   "metadata": {},
   "outputs": [],
   "source": [
    "von = 1100\n",
    "bis = 1300\n",
    "\n",
    "auxusd = format_data(\"AUXUSD\")\n",
    "\n",
    "left_cand = 40\n",
    "right_cand = 3\n",
    "\n",
    "fig = go.Figure(data=[go.Candlestick(x=auxusd[von:bis].index,\n",
    "                open=auxusd['Open'][von:bis],\n",
    "                high=auxusd['High'][von:bis],\n",
    "                low=auxusd['Low'][von:bis],\n",
    "                close=auxusd['Close'][von:bis])])\n",
    "fig.add_scatter(x=auxusd[von:bis].index, y=find_extrema(auxusd, left_cand, right_cand)[\"higher_high\"][von:bis], mode=\"markers\", marker=dict(color=\"blue\", size=8))\n",
    "fig.add_scatter(x=auxusd[von:bis].index, y=find_extrema(auxusd, left_cand, right_cand)[\"lower_low\"][von:bis], mode=\"markers\", marker=dict(color=\"pink\", size=8))\n",
    "fig.add_scatter(x=auxusd[von:bis].index, y=find_extrema(auxusd, left_cand, right_cand)[\"higher_low\"][von:bis], mode=\"markers\", marker=dict(color=\"orange\", size=8))\n",
    "fig.add_scatter(x=auxusd[von:bis].index, y=find_extrema(auxusd, left_cand, right_cand)[\"lower_high\"][von:bis], mode=\"markers\", marker=dict(color=\"brown\", size=8))\n",
    "fig.add_scatter(x=auxusd[von:bis].index, y=np.where(choch(auxusd, 20, 3) == 0, np.nan, choch(auxusd, 20, 3))[von:bis], mode=\"markers\", marker=dict(color=\"black\", size=8))\n",
    "fig.add_scatter(x=auxusd[von:bis].index, y=np.where(choch(auxusd, 20, 3, \"3T\", 1) == 0, np.nan, choch(auxusd, 20, 3, \"3T\", 1))[von:bis], mode=\"markers\", marker=dict(color=\"darkgreen\", size=8))\n",
    "fig.update_layout(xaxis_rangeslider_visible=False, width=800)\n",
    "fig.show()"
   ]
  },
  {
   "cell_type": "markdown",
   "metadata": {},
   "source": [
    "# ChoCh Strat mit VWAP\n",
    "---"
   ]
  },
  {
   "cell_type": "code",
   "execution_count": 222,
   "metadata": {},
   "outputs": [
    {
     "data": {
      "text/plain": [
       "Start                     2013-06-05 00:00:00\n",
       "End                       2023-06-03 12:30:00\n",
       "Duration                   3650 days 12:30:00\n",
       "Exposure Time [%]                   11.038539\n",
       "Equity Final [$]              14521054.954155\n",
       "Equity Peak [$]               24537415.579512\n",
       "Return [%]                      145110.549542\n",
       "Buy & Hold Return [%]              -18.053082\n",
       "Return (Ann.) [%]                   78.159938\n",
       "Volatility (Ann.) [%]               85.670905\n",
       "Sharpe Ratio                         0.912328\n",
       "Sortino Ratio                        4.322388\n",
       "Calmar Ratio                         1.744893\n",
       "Max. Drawdown [%]                  -44.793533\n",
       "Avg. Drawdown [%]                   -2.605276\n",
       "Max. Drawdown Duration      310 days 00:06:00\n",
       "Avg. Drawdown Duration        4 days 09:29:00\n",
       "# Trades                                 3454\n",
       "Win Rate [%]                        33.497394\n",
       "Best Trade [%]                       1.935016\n",
       "Worst Trade [%]                     -0.448017\n",
       "Avg. Trade [%]                        0.01319\n",
       "Max. Trade Duration           3 days 07:06:00\n",
       "Avg. Trade Duration           0 days 02:24:00\n",
       "Profit Factor                        1.361614\n",
       "Expectancy [%]                       0.013297\n",
       "SQN                                  1.429546\n",
       "_strategy                              chocho\n",
       "_equity_curve                             ...\n",
       "_trades                              Size ...\n",
       "dtype: object"
      ]
     },
     "execution_count": 222,
     "metadata": {},
     "output_type": "execute_result"
    }
   ],
   "source": [
    "from backtesting import Backtest, Strategy\n",
    "from backtesting.lib import crossover\n",
    "import warnings\n",
    "\n",
    "warnings.filterwarnings(\"ignore\")\n",
    "\n",
    "class chocho(Strategy):\n",
    "    shorts = True\n",
    "    longs = True\n",
    "    tradehourStart = 1 #UTC Time\n",
    "    tradehourEnd = 20 #UTC Time\n",
    "    timebetween = False\n",
    "    donttrade = 13\n",
    "    donttrade2 = 16-1\n",
    "    timeframeChoch = \"3T\"\n",
    "    chochLeft = 40\n",
    "    chochRight = 3\n",
    "    stoplosscandles = 8\n",
    "    atr_window = 14\n",
    "    uuvwap = False # Macht nur trades wenn der Kurs über dem VWAP ist (oder unter)\n",
    "    uu1vwap = True # Für die 1. Deviation als range für trade entry\n",
    "    supertrendlookback = 10\n",
    "    supertrendmultiplier = 3\n",
    "    vwmaoff = True\n",
    "    vwmaLength = 60\n",
    "    taggedduration = 7\n",
    "    vwmaduration = 2\n",
    "    atr_threshold = 0\n",
    "    close22 = False\n",
    "\n",
    "    def init(self):\n",
    "        self.sholong = 0\n",
    "        self.lastdiffs = []\n",
    "        self.stoploss = 0\n",
    "        self.vwap = self.I(VWAP2, self.data.df, 0)\n",
    "        self.taggedshort = False\n",
    "        self.taggedlong = False\n",
    "        self.taggedcountershort = 0 # How long a tag is valid to enter with chocho\n",
    "        self.taggedcounterlong = 0 \n",
    "        self.fees = 0\n",
    "        self.entryal = False\n",
    "        self.index = 0\n",
    "        self.vwmacounter = 0\n",
    "        self.length = len(self.data.df)\n",
    "        self.vwapu1 = self.I(VWAP2, self.data.df, 1)\n",
    "        self.vwapl1 = self.I(VWAP2, self.data.df, 2)\n",
    "        self.vwapu2 = self.I(VWAP2, self.data.df, 3)\n",
    "        self.vwapl2 = self.I(VWAP2, self.data.df, 4)\n",
    "        self.vwapu3 = self.I(VWAP2, self.data.df, 5)\n",
    "        self.vwapl3 = self.I(VWAP2, self.data.df, 6)\n",
    "        self.vwma = self.I(vwma, self.data.Close, self.data.Volume, self.vwmaLength)\n",
    "        self.chochLong = self.I(choch, self.data.df, self.chochLeft, self.chochRight, self.timeframeChoch, 1)\n",
    "        self.chochShort = self.I(choch, self.data.df, self.chochLeft, self.chochRight, self.timeframeChoch, 0)\n",
    "        self.supertrendu = self.I(supertrend, self.data.df, self.supertrendlookback, self.supertrendmultiplier, 0)\n",
    "        self.supertrendl = self.I(supertrend, self.data.df, self.supertrendlookback, self.supertrendmultiplier, 1)\n",
    "        self.atr = self.I(atr, self.data.df, self.atr_window)\n",
    "\n",
    "        \n",
    "    def next(self):\n",
    "        if self.data.index[-1].hour >= self.tradehourStart and self.data.index[-1].hour < self.tradehourEnd and (self.data.index[-1].hour < self.donttrade or self.data.index[-1].hour > self.donttrade2 or not self.timebetween) and not self.position:\n",
    "            if self.shorts:\n",
    "                if not self.taggedshort:\n",
    "                    if ((self.data.High[-1] > self.vwapu2[-1] - (self.atr[-1]/2) and self.data.High[-1] < self.vwapu2[-1] + (self.atr[-1]/2)) or (self.data.High[-1] > self.vwapu3[-1] - (self.atr[-1]/2) and self.data.High[-1] < self.vwapu3[-1] + (self.atr[-1]/2))):\n",
    "                        self.taggedshort = True\n",
    "                elif (self.chochShort[-1] > 0 and self.atr[-1] > self.atr_threshold and self.taggedshort and self.taggedcountershort < self.taggedduration and (self.data.Close[-1] > self.vwap[-1] or not self.uuvwap) and (self.data.Close[-1] > self.vwapl1[-1] or not self.uu1vwap)) or self.entryal:\n",
    "                    self.entryal = True\n",
    "                    if (self.data.Low[-1] < self.vwma[-1] and self.data.High[-1] > self.vwma[-1] and self.vwmacounter < self.vwmaduration) or self.vwmaoff:\n",
    "                        self.stoploss = 0\n",
    "                        for i in range(1, self.stoplosscandles):\n",
    "                            if self.data.High[-i] > self.stoploss:\n",
    "                                self.stoploss = self.data.High[-i]\n",
    "                        def berechnen(kapital, stoploss, entry):\n",
    "                            diff = abs(stoploss - entry)\n",
    "                            if(diff < 0.0000001):\n",
    "                                diff = abs(sum(self.lastdiffs) / len(self.lastdiffs))\n",
    "                            self.lastdiffs.append(diff)\n",
    "                            size = abs((kapital/100) / abs(diff))\n",
    "                            return int(round(size,0))\n",
    "                        sizeO = berechnen(self.equity, self.stoploss, self.data.Close[-1])\n",
    "                        self.sell(size=sizeO, sl=self.stoploss)\n",
    "                        self.sholong = 1\n",
    "                        self.entryal = False\n",
    "                    elif self.vwmacounter >= self.vwmaduration:\n",
    "                        self.entryal = False\n",
    "                        self.vwmacounter = 0\n",
    "                    else:\n",
    "                        self.vwmacounter += 1\n",
    "                if self.taggedshort:\n",
    "                    self.taggedcountershort += 1\n",
    "                if self.taggedcountershort > self.taggedduration:\n",
    "                    self.taggedshort = False    \n",
    "                    self.taggedcountershort = 0\n",
    "            if self.longs and not self.position:\n",
    "                if not self.taggedlong:\n",
    "                    if((self.data.Low[-1] < self.vwapl2[-1] + (self.atr[-1]/2) and self.data.Low[-1] > self.vwapl2[-1] - (self.atr[-1]/2)) or (self.data.Low[-1] < self.vwapl3[-1] + (self.atr[-1]/2) and self.data.Low[-1] > self.vwapl3[-1] - (self.atr[-1]/2))):\n",
    "                        self.taggedlong = True\n",
    "                if (self.chochLong[-1] > 0 and self.atr[-1] > self.atr_threshold and self.taggedlong and self.taggedcounterlong < self.taggedduration and (self.data.Close[-1] < self.vwap[-1] or not self.uuvwap) and (self.data.Close[-1] < self.vwapu1[-1] or not self.uu1vwap)) or self.entryal:\n",
    "                    self.entryal = True\n",
    "                    if (self.data.Low[-1] < self.vwma[-1] and self.data.High[-1] > self.vwma[-1] and self.vwmacounter < self.vwmaduration) or self.vwmaoff:\n",
    "                        self.stoploss = 10000000\n",
    "                        for i in range(1, self.stoplosscandles):\n",
    "                            if self.data.Low[-i] < self.stoploss:\n",
    "                                self.stoploss = self.data.Low[-i]\n",
    "                        def berechnen(kapital, stoploss, entry):\n",
    "                            diff = abs(stoploss - entry)\n",
    "                            if(diff < 0.0000001):\n",
    "                                diff = abs(sum(self.lastdiffs) / len(self.lastdiffs))\n",
    "                            self.lastdiffs.append(diff)\n",
    "                            size = abs((kapital/100) / abs(diff))\n",
    "                            return int(round(size,0))\n",
    "                        sizeO = berechnen(self.equity, self.stoploss, self.data.Close[-1])\n",
    "                        self.buy(size=sizeO, sl=self.stoploss)\n",
    "                        self.sholong = 0\n",
    "                        self.entryal = False\n",
    "                    elif self.vwmacounter >= self.vwmaduration:\n",
    "                        self.entryal = False\n",
    "                        self.vwmacounter = 0\n",
    "                    else:\n",
    "                        self.vwmacounter += 1\n",
    "                if self.taggedlong:\n",
    "                    self.taggedcounterlong += 1\n",
    "                if self.taggedcounterlong > self.taggedduration:\n",
    "                    self.taggedlong = False\n",
    "                    self.taggedcounterlong = 0\n",
    "        elif self.position:\n",
    "            if self.sholong == 0:\n",
    "                if(self.supertrendl[-2] > 0 and self.supertrendu[-1] > 0):\n",
    "                    self.position.close()\n",
    "                    self.tagged = False\n",
    "            elif self.sholong == 1:\n",
    "                if(self.supertrendu[-2] > 0 and self.supertrendl[-1] > 0):\n",
    "                    self.position.close()\n",
    "                    self.tagged = False\n",
    "            if self.data.index[-1].hour >= 22 and self.close22:\n",
    "                self.position.close()\n",
    "                self.trades.index\n",
    "                self.tagged = False\n",
    "\n",
    "data = format_data(\"EURUSD\", \"3T\")\n",
    "\n",
    "bt = Backtest(data, chocho, cash=10000, commission=0.000045, margin=0.01)\n",
    "stats = bt.run()\n",
    "stats"
   ]
  },
  {
   "cell_type": "code",
   "execution_count": null,
   "metadata": {},
   "outputs": [],
   "source": [
    "bt.plot()"
   ]
  },
  {
   "cell_type": "markdown",
   "metadata": {},
   "source": [
    "## Average win/loss in % für Uhrzeiten\n",
    "---"
   ]
  },
  {
   "cell_type": "code",
   "execution_count": null,
   "metadata": {},
   "outputs": [],
   "source": [
    "def barsWinLoss(stats):    \n",
    "    statistics = stats['_trades']\n",
    "    statistics[\"Hold\"] = statistics[\"ExitBar\"] - statistics[\"EntryBar\"]\n",
    "    print(f'Der durchschnittliche Trade wird {int(statistics[\"Hold\"].mean())} Bars gehalten')\n",
    "    statistics[\"Hour\"] = statistics[\"EntryTime\"].dt.hour\n",
    "    statistics[\"Equity\"] = 10000\n",
    "    for i in range(1, len(statistics)):\n",
    "        statistics[\"Equity\"].iloc[i] = statistics[\"Equity\"].iloc[i-1] + statistics[\"PnL\"].iloc[i-1]\n",
    "    statistics[\"Procent\"] = statistics[\"PnL\"] / statistics[\"Equity\"] * 100\n",
    "    groupedwins = statistics[statistics['Procent'] > 0].groupby('Hour')['Procent'].sum() / statistics[statistics['Procent'] > 0].groupby('Hour')['Procent'].count()\n",
    "    groupedlosses = statistics[statistics['Procent'] < 0].groupby('Hour')['Procent'].sum() / statistics[statistics['Procent'] < 0].groupby('Hour')['Procent'].count()\n",
    "    plt.figure(figsize=(20,10))\n",
    "    plt.bar(groupedwins.index, groupedwins, color='g')\n",
    "    plt.bar(groupedlosses.index, abs(groupedlosses), color='r')\n",
    "    plt.xlabel('Hour')\n",
    "    plt.ylabel('PnL in %')\n",
    "    plt.show()\n",
    "    \n",
    "barsWinLoss(stats)"
   ]
  },
  {
   "cell_type": "markdown",
   "metadata": {},
   "source": [
    "## Profitfactor für Uhrzeit\n",
    "---"
   ]
  },
  {
   "cell_type": "code",
   "execution_count": 215,
   "metadata": {},
   "outputs": [
    {
     "data": {
      "image/png": "[encoded data removed]",
      "text/plain": [
       "<Figure size 2000x1000 with 1 Axes>"
      ]
     },
     "metadata": {},
     "output_type": "display_data"
    }
   ],
   "source": [
    "def profitFactorBars(stats):\n",
    "    statistics = stats['_trades']\n",
    "    statistics[\"Hour\"] = statistics[\"EntryTime\"].dt.hour\n",
    "    profits = statistics[statistics['PnL'] > 0].groupby('Hour')['PnL'].sum()\n",
    "    losses = statistics[statistics['PnL'] < 0].groupby('Hour')['PnL'].sum()\n",
    "    profitfactor = profits / abs(losses)\n",
    "    plt.figure(figsize=(20,10))\n",
    "    plt.bar(profitfactor.index, profitfactor, color='blue')\n",
    "    plt.axhline(y=1, color='red', linestyle='--')\n",
    "    plt.xlabel('Hour')\n",
    "    plt.ylabel('Profit Factor')\n",
    "    plt.show()\n",
    "profitFactorBars(stats)"
   ]
  },
  {
   "cell_type": "code",
   "execution_count": 223,
   "metadata": {},
   "outputs": [
    {
     "data": {
      "image/png": "[encoded data removed]",
      "text/plain": [
       "<Figure size 2000x1000 with 1 Axes>"
      ]
     },
     "metadata": {},
     "output_type": "display_data"
    }
   ],
   "source": [
    "def profitYearly(stats):\n",
    "    statistics = stats['_trades']\n",
    "    statistics[\"Year\"] = statistics[\"EntryTime\"].dt.year\n",
    "    profits = statistics.groupby('Year')['PnL'].sum()\n",
    "    statistics[\"Equity\"] = 10000\n",
    "    for i in range(1, len(statistics)):\n",
    "        statistics[\"Equity\"].iloc[i] = statistics[\"Equity\"].iloc[i-1] + statistics[\"PnL\"].iloc[i-1]\n",
    "    grouped = statistics.groupby('Year')['Equity'].first()\n",
    "    procent = profits / grouped * 100\n",
    "    plt.figure(figsize=(20,10))\n",
    "    plt.bar(procent.index, procent, color='purple')\n",
    "    plt.xlabel('Year')\n",
    "    plt.ylabel('Profit in %')\n",
    "    plt.show()\n",
    "    return procent\n",
    "\n",
    "idk = profitYearly(stats)"
   ]
  },
  {
   "cell_type": "code",
   "execution_count": 227,
   "metadata": {},
   "outputs": [
    {
     "data": {
      "image/png": "[encoded data removed]",
      "text/plain": [
       "<Figure size 2000x1000 with 1 Axes>"
      ]
     },
     "metadata": {},
     "output_type": "display_data"
    }
   ],
   "source": [
    "def profitMonthly(stats):\n",
    "    statistics = stats['_trades']\n",
    "    statistics[\"Month\"] = statistics[\"EntryTime\"].dt.month\n",
    "    profits = statistics.groupby('Month')['PnL'].sum()\n",
    "    statistics[\"Equity\"] = 10000\n",
    "    for i in range(1, len(statistics)):\n",
    "        statistics[\"Equity\"].iloc[i] = statistics[\"Equity\"].iloc[i-1] + statistics[\"PnL\"].iloc[i-1]\n",
    "    plt.figure(figsize=(20,10))\n",
    "    plt.bar(profits.index, profits, color='orange')\n",
    "    plt.xlabel('Month')\n",
    "    plt.ylabel('Profit in %')\n",
    "    plt.show()\n",
    "    return profits\n",
    "\n",
    "idk = profitMonthly(stats)"
   ]
  },
  {
   "cell_type": "code",
   "execution_count": 236,
   "metadata": {},
   "outputs": [],
   "source": [
    "statistics = stats['_trades']\n",
    "statistics[\"Month\"] = statistics[\"EntryTime\"].dt.month\n",
    "statistics[\"Year\"] = statistics[\"EntryTime\"].dt.year\n",
    "profits = statistics.groupby([\"Year\", \"Month\"])['PnL'].sum()"
   ]
  },
  {
   "attachments": {},
   "cell_type": "markdown",
   "metadata": {},
   "source": [
    "# Parameter Optimization\n",
    "---"
   ]
  },
  {
   "cell_type": "code",
   "execution_count": null,
   "metadata": {},
   "outputs": [],
   "source": [
    "\n",
    "data = format_data(\"EURUSD_NEW\", \"3T\")\n",
    "\n",
    "bt = Backtest(data[-300000:], chocho, cash=10000, commission=0.00003, margin=0.01)\n",
    "output = bt.run()\n",
    "\n",
    "stats, heatmap = bt.optimize(\n",
    "    supertrendlookback = range(5, 50, 5),\n",
    "    supertrendmultiplier = range(3, 10, 1),\n",
    "    maximize='Sharpe Ratio',\n",
    "    max_tries=100,\n",
    "    return_heatmap=True,\n",
    "    random_state=0,\n",
    ")"
   ]
  },
  {
   "attachments": {},
   "cell_type": "markdown",
   "metadata": {},
   "source": [
    "## Get 3 best results"
   ]
  },
  {
   "cell_type": "code",
   "execution_count": null,
   "metadata": {},
   "outputs": [],
   "source": [
    "hm = heatmap.groupby(['supertrendlookback', 'supertrendmultiplier']).mean().unstack()\n",
    "hm"
   ]
  },
  {
   "cell_type": "code",
   "execution_count": null,
   "metadata": {},
   "outputs": [],
   "source": [
    "%matplotlib inline\n",
    "\n",
    "sns.heatmap(hm[::1], cmap='viridis')"
   ]
  },
  {
   "attachments": {},
   "cell_type": "markdown",
   "metadata": {},
   "source": [
    "# Backtesting multiple pairs at the same time\n",
    "---"
   ]
  },
  {
   "cell_type": "code",
   "execution_count": null,
   "metadata": {},
   "outputs": [],
   "source": [
    "pairsList = [\"AUDCAD\", \"AUDCHF\", \"AUDJPY\", \"AUDNZD\", \"AUDUSD\", \"CADCHF\", \"CADJPY\", \"CHFJPY\", \"EURAUD\", \"EURCAD\", \"EURCHF\", \"EURGBP\", \"EURJPY\", \"EURNZD\", \"EURUSD\", \"GBPAUD\", \"GBPCAD\", \"GBPCHF\", \"GBPJPY\", \"GBPNZD\", \"GBPUSD\", \"NZDCAD\", \"NZDCHF\", \"NZDJPY\", \"NZDUSD\", \"USDCAD\", \"USDCHF\", \"USDJPY\"]\n",
    " \n",
    "evaluatePairs(pairsList, chocho)"
   ]
  },
  {
   "cell_type": "markdown",
   "metadata": {},
   "source": []
  }
 ],
 "metadata": {
  "kernelspec": {
   "display_name": "Python 3",
   "language": "python",
   "name": "python3"
  },
  "language_info": {
   "codemirror_mode": {
    "name": "ipython",
    "version": 3
   },
   "file_extension": ".py",
   "mimetype": "text/x-python",
   "name": "python",
   "nbconvert_exporter": "python",
   "pygments_lexer": "ipython3",
   "version": "3.8.16"
  },
  "orig_nbformat": 4
 },
 "nbformat": 4,
 "nbformat_minor": 2
}
