{
 "cells": [
  {
   "cell_type": "code",
   "execution_count": 67,
   "metadata": {},
   "outputs": [],
   "source": [
    "import pandas as pd \n",
    "import numpy as np\n",
    "import matplotlib.pyplot as plt\n",
    "import math\n",
    "from datetime import datetime\n",
    "from src.heikin_ashi import heikin_ashi\n",
    "from src.indicators import supertrend, VWAP2, smc, wavetrend3d, atr\n",
    "import pandas_ta as ta"
   ]
  },
  {
   "cell_type": "code",
   "execution_count": 66,
   "metadata": {},
   "outputs": [],
   "source": [
    "auxusd = pd.read_csv(\"./data_directory/AUXUSD.csv\")\n",
    "auxusd['timestamp'] = pd.to_datetime(auxusd['timestamp'], unit='ms')\n",
    "auxusd['timestamp'] = pd.to_datetime(auxusd['timestamp'].apply(lambda x: x.strftime('%Y-%m-%d %H:%M:%S')))\n",
    "auxusd.set_index('timestamp', inplace=True)\n",
    "auxusd.drop_duplicates(inplace=True)"
   ]
  },
  {
   "cell_type": "code",
   "execution_count": 137,
   "metadata": {},
   "outputs": [],
   "source": [
    "usdjpy = pd.read_csv(\"./data_directory/USDJPY.csv\")\n",
    "usdjpy['timestamp'] = pd.to_datetime(usdjpy['timestamp'], unit='ms')\n",
    "usdjpy['timestamp'] = pd.to_datetime(usdjpy['timestamp'].apply(lambda x: x.strftime('%Y-%m-%d %H:%M:%S')))\n",
    "usdjpy.set_index('timestamp', inplace=True)\n",
    "usdjpy.drop_duplicates(inplace=True)"
   ]
  },
  {
   "cell_type": "code",
   "execution_count": 31,
   "metadata": {},
   "outputs": [],
   "source": [
    "eurgbp = pd.read_csv(\"./data_directory/EURGBP.csv\")\n",
    "eurgbp['timestamp'] = pd.to_datetime(eurgbp['timestamp'], unit='ms')\n",
    "eurgbp['timestamp'] = pd.to_datetime(eurgbp['timestamp'].apply(lambda x: x.strftime('%Y-%m-%d %H:%M:%S')))\n",
    "eurgbp.set_index('timestamp', inplace=True)\n",
    "eurgbp.drop_duplicates(inplace=True)"
   ]
  },
  {
   "cell_type": "code",
   "execution_count": 3,
   "metadata": {},
   "outputs": [],
   "source": [
    "forex_data = pd.read_csv(\"./data_directory/EURUSD_2021_2023.csv\")\n",
    "forex_data['timestamp'] = pd.to_datetime(forex_data['timestamp'], unit='ms')\n",
    "forex_data['timestamp'] = pd.to_datetime(forex_data['timestamp'].apply(lambda x: x.strftime('%Y-%m-%d %H:%M:%S')))\n",
    "forex_data.set_index('timestamp', inplace=True)\n",
    "forex_data.drop_duplicates(inplace=True)"
   ]
  },
  {
   "cell_type": "code",
   "execution_count": 20,
   "metadata": {},
   "outputs": [],
   "source": [
    "eurusd = pd.read_csv(\"./data_directory/EURUSD_NEW.csv\")\n",
    "eurusd.set_index(\"Date\", inplace=True)\n",
    "eurusd.index = pd.to_datetime(eurusd.index)\n",
    "eurusd.drop_duplicates(inplace=True)"
   ]
  },
  {
   "cell_type": "code",
   "execution_count": 7,
   "metadata": {},
   "outputs": [
    {
     "name": "stderr",
     "output_type": "stream",
     "text": [
      "/var/folders/6k/qhxq2vds24v690rsqtznkwqm0000gn/T/ipykernel_28160/3134265937.py:4: FutureWarning: The default dtype for empty Series will be 'object' instead of 'float64' in a future version. Specify a dtype explicitly to silence this warning.\n",
      "  chocolad = pd.Series(index=data.index)\n",
      "/var/folders/6k/qhxq2vds24v690rsqtznkwqm0000gn/T/ipykernel_28160/3134265937.py:10: FutureWarning: iteritems is deprecated and will be removed in a future version. Use .items instead.\n",
      "  for index, values in ob.iteritems():\n"
     ]
    }
   ],
   "source": [
    "# Der choCH wird hier programmiert\n",
    "\n",
    "def choCH(data, length, band):\n",
    "    chocolad = pd.Series(index=data.index)\n",
    "    ob = smc(data, length, band, \"30T\")\n",
    "    prevvalue = 0\n",
    "    orderblocks = []\n",
    "    i = 0\n",
    "    if(band == 0):\n",
    "        for index, values in ob.iteritems():\n",
    "            if(values > 0 and values != prevvalue):\n",
    "                prevvalue = values\n",
    "                give = [i, values]\n",
    "                orderblocks.append(give)\n",
    "            i += 1\n",
    "        for i, (candle, price) in enumerate(orderblocks):\n",
    "            if price > orderblocks[i-2][1] and orderblocks[i-1][1] < orderblocks[i-2][1] and orderblocks[i-2][1] < orderblocks[i-3][1] and orderblocks[i-3][1] < orderblocks[i-4][1]:\n",
    "                chocolad.iloc[candle] = price\n",
    "    elif(band == 1):\n",
    "        for index, values in ob.iteritems():\n",
    "            if(values > 0 and values != prevvalue):\n",
    "                prevvalue = values\n",
    "                give = [i, values]\n",
    "                orderblocks.append(give)\n",
    "            i += 1\n",
    "        for i, (candle, price) in enumerate(orderblocks):\n",
    "            if price < orderblocks[i-2][1] and orderblocks[i-1][1] > orderblocks[i-2][1] and orderblocks[i-2][1] > orderblocks[i-3][1] and orderblocks[i-3][1] > orderblocks[i-4][1]:\n",
    "                chocolad.iloc[candle] = price\n",
    "    return chocolad\n",
    "    \n",
    "\n",
    "\n",
    "\n"
   ]
  },
  {
   "cell_type": "code",
   "execution_count": 8,
   "metadata": {},
   "outputs": [
    {
     "name": "stdout",
     "output_type": "stream",
     "text": [
      "2021-06-20 20:00:00\n",
      "2021-07-05 04:00:00\n",
      "2021-07-22 01:00:00\n",
      "2021-10-14 05:30:00\n",
      "2022-01-28 15:30:00\n",
      "2022-02-15 17:30:00\n",
      "2022-03-07 22:00:00\n",
      "2022-04-11 06:30:00\n",
      "2022-04-19 15:00:00\n",
      "2022-04-28 16:00:00\n",
      "2022-05-09 06:30:00\n",
      "2022-05-16 03:00:00\n",
      "2022-06-30 19:00:00\n",
      "2022-09-22 15:00:00\n",
      "2022-10-24 09:30:00\n",
      "2022-11-29 08:00:00\n",
      "2022-12-07 16:30:00\n",
      "2023-01-09 22:00:00\n",
      "2023-01-19 02:00:00\n",
      "2023-02-20 00:30:00\n",
      "2023-02-24 01:30:00\n"
     ]
    },
    {
     "name": "stderr",
     "output_type": "stream",
     "text": [
      "/var/folders/6k/qhxq2vds24v690rsqtznkwqm0000gn/T/ipykernel_28160/2810368415.py:1: FutureWarning: iteritems is deprecated and will be removed in a future version. Use .items instead.\n",
      "  for index, value in hello.iteritems():\n"
     ]
    }
   ],
   "source": [
    "\n",
    "for index, value in hello.iteritems():\n",
    "    if value > 0:\n",
    "        print(index)"
   ]
  },
  {
   "cell_type": "code",
   "execution_count": 199,
   "metadata": {},
   "outputs": [],
   "source": [
    "def wavetrend3db(data: pd.DataFrame, cog_window, cock , timeframe, mirror):\n",
    "    s_length = 1.75\n",
    "    if(cock):\n",
    "        dataclose = cog(data[\"Close\"], cog_window)\n",
    "    else:\n",
    "        dataclose = data['Close']\n",
    "\n",
    "    timechange = dataclose.resample(timeframe).agg({'Close': 'last'})\n",
    "\n",
    "    signalSlow = getOscillator(timechange[\"Close\"])\n",
    "\n",
    "    hourly_data = pd.DataFrame(signalSlow, index=timechange.index)\n",
    "\n",
    "    seriesSlow = hourly_data.reindex(data.index, method='pad')\n",
    "    seriesSlow = s_length * seriesSlow.squeeze()\n",
    "    seriesSlowMirror = -seriesSlow\n",
    "    seriesSlowret = seriesSlow.ffill()\n",
    "    seriesSlowretMirror = seriesSlowMirror.ffill()\n",
    "    if not mirror:\n",
    "        return seriesSlowret\n",
    "    elif mirror:\n",
    "        return seriesSlowretMirror\n",
    "    \n",
    "\n",
    "def cog(source, length):\n",
    "    sum = source.rolling(length, min_periods=1).sum()\n",
    "    num = 0\n",
    "    for i in range(length):\n",
    "        price = source.shift(i).fillna(0)\n",
    "        num += price * (i + 1)\n",
    "    return -(num / sum).replace([np.inf, -np.inf], np.nan).fillna(0)\n",
    "\n",
    "def normalizeDeriv(src, quadraticMeanLength):\n",
    "    derivative = src - src.shift(2)  \n",
    "    quadraticMean = math.sqrt(np.nansum(np.power(derivative, 2)) / quadraticMeanLength)\n",
    "    normalizedDeriv = derivative / quadraticMean  \n",
    "    series = pd.Series(index=src.index, data=normalizedDeriv)\n",
    "    return series\n",
    "\n",
    "def tanh(_src):\n",
    "    vals = -1 + 2/(1 + np.exp(-2*_src))\n",
    "    series = pd.Series(index=_src.index, data=vals)\n",
    "    return series\n",
    "\n",
    "def dualPoleFilter(_src, _lookback):\n",
    "    _omega = -99 * math.pi / (70 * _lookback)\n",
    "    _alpha = np.exp(_omega)\n",
    "    _beta = -np.power(_alpha, 2)\n",
    "    _gamma = np.cos(_omega) * 2 * _alpha\n",
    "    _delta = 1 - _gamma - _beta\n",
    "    _slidingAvg = 0.5 * (_src + np.nan_to_num(_src.shift(1), nan=_src[0]))\n",
    "    _filter = np.empty_like(_src)\n",
    "    _filter[0] = np.nan\n",
    "    \n",
    "    for i in range(1, len(_src)):\n",
    "        _filter[i] = (_delta * _slidingAvg[i]) + _gamma * np.nan_to_num(_filter[i-1], nan=0) + _beta * np.nan_to_num(_filter[i-2], nan=0)\n",
    "    series = pd.Series(_filter, index=_src.index)\n",
    "    return series\n",
    "\n",
    "def getOscillator(data, smoothingFrequency=40, quadraticMeanLength=50):\n",
    "    nDeriv = normalizeDeriv(data, quadraticMeanLength)\n",
    "    hyperbolicTangent = tanh(nDeriv)\n",
    "    result = dualPoleFilter(hyperbolicTangent, smoothingFrequency)\n",
    "    return result"
   ]
  },
  {
   "cell_type": "code",
   "execution_count": null,
   "metadata": {},
   "outputs": [],
   "source": [
    "indexes = argrelextrema(auxusd['High'][:1000].values, np.greater, order=20)[0]\n",
    "values = auxusd['High'][:1000].iloc[indexes]\n",
    "\n",
    "indexeslower = argrelextrema(auxusd['Low'][:1000].values, np.less, order=20)[0]\n",
    "valueslower = auxusd['Low'][:1000].iloc[indexeslower]\n",
    "\n",
    "plt.figure(figsize=(20,10))\n",
    "plt.plot(auxusd['Close'][:1000])\n",
    "plt.scatter(values.index, values.values, c='r')\n",
    "plt.scatter(valueslower.index, valueslower.values, c='r')\n",
    "\n"
   ]
  },
  {
   "cell_type": "code",
   "execution_count": null,
   "metadata": {},
   "outputs": [],
   "source": [
    "\n",
    "plt.figure(figsize=(20,10))\n",
    "plt.plot(auxusd[\"Close\"][3000:6000])\n",
    "plt.plot(pivotPoints(auxusd[3000:6000], 50, 0))\n",
    "plt.plot(pivotPoints(auxusd[3000:6000], 50, 1))"
   ]
  }
 ],
 "metadata": {
  "kernelspec": {
   "display_name": "pie",
   "language": "python",
   "name": "python3"
  },
  "language_info": {
   "codemirror_mode": {
    "name": "ipython",
    "version": 3
   },
   "file_extension": ".py",
   "mimetype": "text/x-python",
   "name": "python",
   "nbconvert_exporter": "python",
   "pygments_lexer": "ipython3",
   "version": "3.8.16"
  },
  "orig_nbformat": 4
 },
 "nbformat": 4,
 "nbformat_minor": 2
}
