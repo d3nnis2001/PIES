{
 "cells": [
  {
   "cell_type": "code",
   "execution_count": 2,
   "metadata": {},
   "outputs": [],
   "source": [
    "import pandas as pd \n",
    "import numpy as np\n",
    "import matplotlib.pyplot as plt\n",
    "import math\n",
    "from datetime import datetime\n",
    "from src.heikin_ashi import heikin_ashi\n",
    "from src.indicators import supertrend, VWAP2, smc, wavetrend3d, atr\n",
    "import pandas_ta as ta"
   ]
  },
  {
   "cell_type": "code",
   "execution_count": 3,
   "metadata": {},
   "outputs": [],
   "source": [
    "auxusd = pd.read_csv(\"./data_directory/AUXUSD.csv\")\n",
    "auxusd['timestamp'] = pd.to_datetime(auxusd['timestamp'], unit='ms')\n",
    "auxusd['timestamp'] = pd.to_datetime(auxusd['timestamp'].apply(lambda x: x.strftime('%Y-%m-%d %H:%M:%S')))\n",
    "auxusd.set_index('timestamp', inplace=True)\n",
    "auxusd.drop_duplicates(inplace=True)"
   ]
  },
  {
   "cell_type": "code",
   "execution_count": 4,
   "metadata": {},
   "outputs": [],
   "source": [
    "eurgbp = pd.read_csv(\"./data_directory/EURGBP.csv\")\n",
    "eurgbp['timestamp'] = pd.to_datetime(eurgbp['timestamp'], unit='ms')\n",
    "eurgbp['timestamp'] = pd.to_datetime(eurgbp['timestamp'].apply(lambda x: x.strftime('%Y-%m-%d %H:%M:%S')))\n",
    "eurgbp.set_index('timestamp', inplace=True)\n",
    "eurgbp.drop_duplicates(inplace=True)"
   ]
  },
  {
   "cell_type": "code",
   "execution_count": 3,
   "metadata": {},
   "outputs": [],
   "source": [
    "forex_data = pd.read_csv(\"./data_directory/EURUSD_2021_2023.csv\")\n",
    "forex_data['timestamp'] = pd.to_datetime(forex_data['timestamp'], unit='ms')\n",
    "forex_data['timestamp'] = pd.to_datetime(forex_data['timestamp'].apply(lambda x: x.strftime('%Y-%m-%d %H:%M:%S')))\n",
    "forex_data.set_index('timestamp', inplace=True)\n",
    "forex_data.drop_duplicates(inplace=True)"
   ]
  },
  {
   "cell_type": "code",
   "execution_count": 6,
   "metadata": {},
   "outputs": [],
   "source": [
    "eurusd = pd.read_csv(\"./data_directory/EURUSD_NEW.csv\")\n",
    "eurusd.set_index(\"Date\", inplace=True)\n",
    "eurusd.index = pd.to_datetime(eurusd.index)\n",
    "eurusd.drop_duplicates(inplace=True)"
   ]
  },
  {
   "cell_type": "code",
   "execution_count": 7,
   "metadata": {},
   "outputs": [
    {
     "name": "stderr",
     "output_type": "stream",
     "text": [
      "/var/folders/6k/qhxq2vds24v690rsqtznkwqm0000gn/T/ipykernel_28160/3134265937.py:4: FutureWarning: The default dtype for empty Series will be 'object' instead of 'float64' in a future version. Specify a dtype explicitly to silence this warning.\n",
      "  chocolad = pd.Series(index=data.index)\n",
      "/var/folders/6k/qhxq2vds24v690rsqtznkwqm0000gn/T/ipykernel_28160/3134265937.py:10: FutureWarning: iteritems is deprecated and will be removed in a future version. Use .items instead.\n",
      "  for index, values in ob.iteritems():\n"
     ]
    }
   ],
   "source": [
    "# Der choCH wird hier programmiert\n",
    "\n",
    "def choCH(data, length, band):\n",
    "    chocolad = pd.Series(index=data.index)\n",
    "    ob = smc(data, length, band, \"30T\")\n",
    "    prevvalue = 0\n",
    "    orderblocks = []\n",
    "    i = 0\n",
    "    if(band == 0):\n",
    "        for index, values in ob.iteritems():\n",
    "            if(values > 0 and values != prevvalue):\n",
    "                prevvalue = values\n",
    "                give = [i, values]\n",
    "                orderblocks.append(give)\n",
    "            i += 1\n",
    "        for i, (candle, price) in enumerate(orderblocks):\n",
    "            if price > orderblocks[i-2][1] and orderblocks[i-1][1] < orderblocks[i-2][1] and orderblocks[i-2][1] < orderblocks[i-3][1] and orderblocks[i-3][1] < orderblocks[i-4][1]:\n",
    "                chocolad.iloc[candle] = price\n",
    "    elif(band == 1):\n",
    "        for index, values in ob.iteritems():\n",
    "            if(values > 0 and values != prevvalue):\n",
    "                prevvalue = values\n",
    "                give = [i, values]\n",
    "                orderblocks.append(give)\n",
    "            i += 1\n",
    "        for i, (candle, price) in enumerate(orderblocks):\n",
    "            if price < orderblocks[i-2][1] and orderblocks[i-1][1] > orderblocks[i-2][1] and orderblocks[i-2][1] > orderblocks[i-3][1] and orderblocks[i-3][1] > orderblocks[i-4][1]:\n",
    "                chocolad.iloc[candle] = price\n",
    "    return chocolad\n",
    "    \n",
    "\n",
    "\n",
    "\n"
   ]
  },
  {
   "cell_type": "code",
   "execution_count": 8,
   "metadata": {},
   "outputs": [
    {
     "name": "stdout",
     "output_type": "stream",
     "text": [
      "2021-06-20 20:00:00\n",
      "2021-07-05 04:00:00\n",
      "2021-07-22 01:00:00\n",
      "2021-10-14 05:30:00\n",
      "2022-01-28 15:30:00\n",
      "2022-02-15 17:30:00\n",
      "2022-03-07 22:00:00\n",
      "2022-04-11 06:30:00\n",
      "2022-04-19 15:00:00\n",
      "2022-04-28 16:00:00\n",
      "2022-05-09 06:30:00\n",
      "2022-05-16 03:00:00\n",
      "2022-06-30 19:00:00\n",
      "2022-09-22 15:00:00\n",
      "2022-10-24 09:30:00\n",
      "2022-11-29 08:00:00\n",
      "2022-12-07 16:30:00\n",
      "2023-01-09 22:00:00\n",
      "2023-01-19 02:00:00\n",
      "2023-02-20 00:30:00\n",
      "2023-02-24 01:30:00\n"
     ]
    },
    {
     "name": "stderr",
     "output_type": "stream",
     "text": [
      "/var/folders/6k/qhxq2vds24v690rsqtznkwqm0000gn/T/ipykernel_28160/2810368415.py:1: FutureWarning: iteritems is deprecated and will be removed in a future version. Use .items instead.\n",
      "  for index, value in hello.iteritems():\n"
     ]
    }
   ],
   "source": [
    "\n",
    "for index, value in hello.iteritems():\n",
    "    if value > 0:\n",
    "        print(index)"
   ]
  }
 ],
 "metadata": {
  "kernelspec": {
   "display_name": "pie",
   "language": "python",
   "name": "python3"
  },
  "language_info": {
   "codemirror_mode": {
    "name": "ipython",
    "version": 3
   },
   "file_extension": ".py",
   "mimetype": "text/x-python",
   "name": "python",
   "nbconvert_exporter": "python",
   "pygments_lexer": "ipython3",
   "version": "3.8.16"
  },
  "orig_nbformat": 4
 },
 "nbformat": 4,
 "nbformat_minor": 2
}
