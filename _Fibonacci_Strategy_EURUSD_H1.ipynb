{
 "cells": [
  {
   "attachments": {},
   "cell_type": "markdown",
   "metadata": {},
   "source": [
    "# Fibonacci Retracement Strategy"
   ]
  },
  {
   "attachments": {},
   "cell_type": "markdown",
   "metadata": {},
   "source": [
    "### Load the data"
   ]
  },
  {
   "cell_type": "code",
   "execution_count": 5,
   "metadata": {},
   "outputs": [],
   "source": [
    "import pandas as pd\n",
    "import pandas_ta as ta\n",
    "#df = pd.read_csv(\"EURUSD_Candlestick_1_D_ASK_05.05.2003-30.06.2021.csv\")\n",
    "df = pd.read_csv(\"./data_directory/EURUSD_NEW.csv\")\n",
    "#Check if NA values are in data\n",
    "df=df[df['Volume']!=0]\n",
    "df.reset_index(drop=True, inplace=True)\n",
    "df.isna().sum()\n",
    "df['RSI'] = ta.rsi(df.Close, length=12)\n",
    "df['EMA'] = ta.ema(df.Close, length=150)\n",
    "df.tail()\n",
    "\n",
    "df=df[0:2000]"
   ]
  },
  {
   "attachments": {},
   "cell_type": "markdown",
   "metadata": {},
   "source": [
    "### Trend detection"
   ]
  },
  {
   "cell_type": "code",
   "execution_count": 6,
   "metadata": {},
   "outputs": [],
   "source": [
    "EMAsignal = [0]*len(df)\n",
    "backcandles = 15\n",
    "\n",
    "for row in range(backcandles, len(df)):\n",
    "    upt = 1\n",
    "    dnt = 1\n",
    "    for i in range(row-backcandles, row+1):\n",
    "        if max(df.Open[i], df.Close[i])>=df.EMA[i]:\n",
    "            dnt=0\n",
    "        if min(df.Open[i], df.Close[i])<=df.EMA[i]:\n",
    "            upt=0\n",
    "    if upt==1 and dnt==1:\n",
    "        EMAsignal[row]=3\n",
    "    elif upt==1:\n",
    "        EMAsignal[row]=2\n",
    "    elif dnt==1:\n",
    "        EMAsignal[row]=1\n",
    "\n",
    "df['EMASignal'] = EMAsignal"
   ]
  },
  {
   "cell_type": "code",
   "execution_count": 7,
   "metadata": {},
   "outputs": [],
   "source": [
    "def generate_signal(df,l,backcandles, gap, zone_threshold, price_diff_threshold):\n",
    "    max_price = df.High[l-backcandles:l-gap].max()\n",
    "    min_price = df.Low[l-backcandles:l-gap].min()\n",
    "    index_max = df.High[l-backcandles:l-gap].idxmax()\n",
    "    index_min = df.Low[l-backcandles:l-gap].idxmin()\n",
    "    price_diff = max_price - min_price\n",
    "\n",
    "    if (df.EMASignal[l] == 2 \n",
    "        and (index_min < index_max) \n",
    "        and price_diff>price_diff_threshold): \n",
    "        l1 = max_price - 0.62 * price_diff # position entry 0.62\n",
    "        l2 = max_price - 0.78 * price_diff # SL 0.78\n",
    "        l3 = max_price - 0. * price_diff # TP\n",
    "        if abs(df.Close[l]-l1) < zone_threshold and df.High[l-gap:l].min()>l1:\n",
    "            return (2, l2, l3, index_min, index_max)\n",
    "        else:\n",
    "            return (0,0,0,0,0)\n",
    "        \n",
    "    elif (df.EMASignal[l] == 1 \n",
    "          and (index_min > index_max) \n",
    "          and price_diff>price_diff_threshold): \n",
    "        l1 = min_price + 0.62 * price_diff # position entry 0.62\n",
    "        l2 = min_price + 0.78 * price_diff # SL 0.78\n",
    "        l3 = min_price + 0. * price_diff # TP\n",
    "        if abs(df.Close[l]-l1) < zone_threshold and df.Low[l-gap:l].max()<l1:\n",
    "            return (1, l2, l3, index_min, index_max)\n",
    "        else:\n",
    "            return (0,0,0,0,0)\n",
    "    \n",
    "    else:\n",
    "        return (0,0,0,0,0)\n",
    "\n",
    "\n",
    "gap_candles = 5\n",
    "backcandles = 40\n",
    "signal = [0 for i in range(len(df))]\n",
    "TP = [0 for i in range(len(df))]\n",
    "SL = [0 for i in range(len(df))]\n",
    "MinSwing = [0 for i in range(len(df))]\n",
    "MaxSwing = [0 for i in range(len(df))]\n",
    "\n",
    "for row in range(backcandles, len(df)):\n",
    "    gen_sig = generate_signal(df, row, backcandles=backcandles, gap=gap_candles, zone_threshold=0.001, price_diff_threshold=0.01)\n",
    "    signal[row] = gen_sig[0]\n",
    "    SL[row] = gen_sig[1]\n",
    "    TP[row] = gen_sig[2]\n",
    "    MinSwing[row] = gen_sig[3]\n",
    "    MaxSwing[row] = gen_sig[4]\n",
    "    \n",
    "df['signal'] = signal\n",
    "df['SL'] = SL\n",
    "df['TP'] = TP\n",
    "df['MinSwing'] = MinSwing\n",
    "df['MaxSwing'] = MaxSwing\n"
   ]
  },
  {
   "cell_type": "code",
   "execution_count": 8,
   "metadata": {},
   "outputs": [
    {
     "data": {
      "text/html": [
       "<div>\n",
       "<style scoped>\n",
       "    .dataframe tbody tr th:only-of-type {\n",
       "        vertical-align: middle;\n",
       "    }\n",
       "\n",
       "    .dataframe tbody tr th {\n",
       "        vertical-align: top;\n",
       "    }\n",
       "\n",
       "    .dataframe thead th {\n",
       "        text-align: right;\n",
       "    }\n",
       "</style>\n",
       "<table border=\"1\" class=\"dataframe\">\n",
       "  <thead>\n",
       "    <tr style=\"text-align: right;\">\n",
       "      <th></th>\n",
       "      <th>Date</th>\n",
       "      <th>Open</th>\n",
       "      <th>High</th>\n",
       "      <th>Low</th>\n",
       "      <th>Close</th>\n",
       "      <th>Volume</th>\n",
       "      <th>RSI</th>\n",
       "      <th>EMA</th>\n",
       "      <th>EMASignal</th>\n",
       "      <th>signal</th>\n",
       "      <th>SL</th>\n",
       "      <th>TP</th>\n",
       "      <th>MinSwing</th>\n",
       "      <th>MaxSwing</th>\n",
       "    </tr>\n",
       "  </thead>\n",
       "  <tbody>\n",
       "  </tbody>\n",
       "</table>\n",
       "</div>"
      ],
      "text/plain": [
       "Empty DataFrame\n",
       "Columns: [Date, Open, High, Low, Close, Volume, RSI, EMA, EMASignal, signal, SL, TP, MinSwing, MaxSwing]\n",
       "Index: []"
      ]
     },
     "execution_count": 8,
     "metadata": {},
     "output_type": "execute_result"
    }
   ],
   "source": [
    "df[df.signal !=0][:10]\n",
    "#df.head(50)"
   ]
  },
  {
   "cell_type": "code",
   "execution_count": 9,
   "metadata": {},
   "outputs": [],
   "source": [
    "import numpy as np\n",
    "def pointpos(x):\n",
    "    if x['signal']==1:\n",
    "        return x['high']+1e-4\n",
    "    elif x['signal']==2:\n",
    "        return x['low']-1e-4\n",
    "    else:\n",
    "        return np.nan\n",
    "\n",
    "df['pointpos'] = df.apply(lambda row: pointpos(row), axis=1)"
   ]
  },
  {
   "cell_type": "code",
   "execution_count": null,
   "metadata": {},
   "outputs": [],
   "source": [
    "dfpl = df[150:350]\n",
    "import plotly.graph_objects as go\n",
    "\n",
    "fig = go.Figure(data=[go.Candlestick(x=dfpl.index,\n",
    "                open=dfpl['Open'],\n",
    "                high=dfpl['High'],\n",
    "                low=dfpl['Low'],\n",
    "                Close=dfpl['Close'])])\n",
    "\n",
    "fig.update_layout(\n",
    "    autosize=False,\n",
    "    width=1000,\n",
    "    height=800, \n",
    "    paper_bgcolor='black',\n",
    "    plot_bgcolor='black')\n",
    "fig.update_xaxes(gridcolor='black')\n",
    "fig.update_yaxes(gridcolor='black')\n",
    "fig.add_scatter(x=dfpl.index, y=dfpl['pointpos'], mode=\"markers\",\n",
    "                marker=dict(size=8, color=\"MediumPurple\"),\n",
    "                name=\"Signal\")\n",
    "fig.show()"
   ]
  },
  {
   "cell_type": "code",
   "execution_count": 12,
   "metadata": {},
   "outputs": [],
   "source": [
    "df = df.rename(columns={\"open\": \"Open\", \"high\":\"High\", \"low\":\"Low\", \"Close\": \"Close\", \"volume\":\"Volume\"})\n",
    "def SIGNAL():\n",
    "    return df.signal"
   ]
  },
  {
   "cell_type": "code",
   "execution_count": 13,
   "metadata": {},
   "outputs": [
    {
     "name": "stderr",
     "output_type": "stream",
     "text": [
      "/var/folders/6k/qhxq2vds24v690rsqtznkwqm0000gn/T/ipykernel_71557/4137819960.py:27: UserWarning: Data index is not datetime. Assuming simple periods, but `pd.DateTimeIndex` is advised.\n",
      "  bt = Backtest(df, MyStrat, cash=100, margin=1/100, commission=0.0000)\n"
     ]
    },
    {
     "data": {
      "text/plain": [
       "Start                                     0.0\n",
       "End                                    1999.0\n",
       "Duration                               1999.0\n",
       "Exposure Time [%]                         0.0\n",
       "Equity Final [$]                        100.0\n",
       "Equity Peak [$]                         100.0\n",
       "Return [%]                                0.0\n",
       "Buy & Hold Return [%]                2.162913\n",
       "Return (Ann.) [%]                         0.0\n",
       "Volatility (Ann.) [%]                     NaN\n",
       "Sharpe Ratio                              NaN\n",
       "Sortino Ratio                             NaN\n",
       "Calmar Ratio                              NaN\n",
       "Max. Drawdown [%]                        -0.0\n",
       "Avg. Drawdown [%]                         NaN\n",
       "Max. Drawdown Duration                    NaN\n",
       "Avg. Drawdown Duration                    NaN\n",
       "# Trades                                  0.0\n",
       "Win Rate [%]                              NaN\n",
       "Best Trade [%]                            NaN\n",
       "Worst Trade [%]                           NaN\n",
       "Avg. Trade [%]                            NaN\n",
       "Max. Trade Duration                       NaN\n",
       "Avg. Trade Duration                       NaN\n",
       "Profit Factor                             NaN\n",
       "Expectancy [%]                            NaN\n",
       "SQN                                       NaN\n",
       "_strategy                             MyStrat\n",
       "_equity_curve                   Equity  Dr...\n",
       "_trades                   Empty DataFrame\n",
       "...\n",
       "dtype: object"
      ]
     },
     "execution_count": 13,
     "metadata": {},
     "output_type": "execute_result"
    }
   ],
   "source": [
    "from backtesting import Strategy\n",
    "from backtesting import Backtest\n",
    "\n",
    "class MyStrat(Strategy):\n",
    "    mysize = 0.99 #1000\n",
    "    def init(self):\n",
    "        super().init()\n",
    "        self.signal1 = self.I(SIGNAL)\n",
    "\n",
    "    def next(self):\n",
    "        super().next()\n",
    "       \n",
    "        if self.signal1==2 and len(self.trades)==0:\n",
    "            sl1 = self.data.SL[-1]\n",
    "            tp1 = self.data.TP[-1]\n",
    "            tp2 = tp1-(tp1-self.data.Close[-1])/2\n",
    "            self.buy(sl=sl1, tp=tp1, size=self.mysize)\n",
    "            self.buy(sl=sl1, tp=tp2, size=self.mysize)\n",
    "        \n",
    "        elif self.signal1==1 and len(self.trades)==0:         \n",
    "            sl1 = self.data.SL[-1]\n",
    "            tp1 = self.data.TP[-1]\n",
    "            tp2 = tp1+(self.data.Close[-1]-tp1)/2\n",
    "            self.sell(sl=sl1, tp=tp1, size=self.mysize)\n",
    "            self.sell(sl=sl1, tp=tp1, size=self.mysize)\n",
    "\n",
    "bt = Backtest(df, MyStrat, cash=100, margin=1/100, commission=0.0000)\n",
    "stat = bt.run()\n",
    "stat"
   ]
  },
  {
   "cell_type": "code",
   "execution_count": 12,
   "metadata": {},
   "outputs": [
    {
     "data": {
      "text/html": [
       "<div style=\"display: table;\"><div style=\"display: table-row;\"><div style=\"display: table-cell;\"><b title=\"bokeh.models.layouts.Row\">Row</b>(</div><div style=\"display: table-cell;\">id&nbsp;=&nbsp;'1455', <span id=\"2173\" style=\"cursor: pointer;\">&hellip;)</span></div></div><div class=\"2172\" style=\"display: none;\"><div style=\"display: table-cell;\"></div><div style=\"display: table-cell;\">align&nbsp;=&nbsp;'start',</div></div><div class=\"2172\" style=\"display: none;\"><div style=\"display: table-cell;\"></div><div style=\"display: table-cell;\">aspect_ratio&nbsp;=&nbsp;None,</div></div><div class=\"2172\" style=\"display: none;\"><div style=\"display: table-cell;\"></div><div style=\"display: table-cell;\">background&nbsp;=&nbsp;None,</div></div><div class=\"2172\" style=\"display: none;\"><div style=\"display: table-cell;\"></div><div style=\"display: table-cell;\">children&nbsp;=&nbsp;[GridBox(id='1452', ...), ToolbarBox(id='1454', ...)],</div></div><div class=\"2172\" style=\"display: none;\"><div style=\"display: table-cell;\"></div><div style=\"display: table-cell;\">cols&nbsp;=&nbsp;'auto',</div></div><div class=\"2172\" style=\"display: none;\"><div style=\"display: table-cell;\"></div><div style=\"display: table-cell;\">css_classes&nbsp;=&nbsp;[],</div></div><div class=\"2172\" style=\"display: none;\"><div style=\"display: table-cell;\"></div><div style=\"display: table-cell;\">disabled&nbsp;=&nbsp;False,</div></div><div class=\"2172\" style=\"display: none;\"><div style=\"display: table-cell;\"></div><div style=\"display: table-cell;\">height&nbsp;=&nbsp;None,</div></div><div class=\"2172\" style=\"display: none;\"><div style=\"display: table-cell;\"></div><div style=\"display: table-cell;\">height_policy&nbsp;=&nbsp;'auto',</div></div><div class=\"2172\" style=\"display: none;\"><div style=\"display: table-cell;\"></div><div style=\"display: table-cell;\">js_event_callbacks&nbsp;=&nbsp;{},</div></div><div class=\"2172\" style=\"display: none;\"><div style=\"display: table-cell;\"></div><div style=\"display: table-cell;\">js_property_callbacks&nbsp;=&nbsp;{},</div></div><div class=\"2172\" style=\"display: none;\"><div style=\"display: table-cell;\"></div><div style=\"display: table-cell;\">margin&nbsp;=&nbsp;(0, 0, 0, 0),</div></div><div class=\"2172\" style=\"display: none;\"><div style=\"display: table-cell;\"></div><div style=\"display: table-cell;\">max_height&nbsp;=&nbsp;None,</div></div><div class=\"2172\" style=\"display: none;\"><div style=\"display: table-cell;\"></div><div style=\"display: table-cell;\">max_width&nbsp;=&nbsp;None,</div></div><div class=\"2172\" style=\"display: none;\"><div style=\"display: table-cell;\"></div><div style=\"display: table-cell;\">min_height&nbsp;=&nbsp;None,</div></div><div class=\"2172\" style=\"display: none;\"><div style=\"display: table-cell;\"></div><div style=\"display: table-cell;\">min_width&nbsp;=&nbsp;None,</div></div><div class=\"2172\" style=\"display: none;\"><div style=\"display: table-cell;\"></div><div style=\"display: table-cell;\">name&nbsp;=&nbsp;None,</div></div><div class=\"2172\" style=\"display: none;\"><div style=\"display: table-cell;\"></div><div style=\"display: table-cell;\">sizing_mode&nbsp;=&nbsp;'stretch_width',</div></div><div class=\"2172\" style=\"display: none;\"><div style=\"display: table-cell;\"></div><div style=\"display: table-cell;\">spacing&nbsp;=&nbsp;0,</div></div><div class=\"2172\" style=\"display: none;\"><div style=\"display: table-cell;\"></div><div style=\"display: table-cell;\">subscribed_events&nbsp;=&nbsp;[],</div></div><div class=\"2172\" style=\"display: none;\"><div style=\"display: table-cell;\"></div><div style=\"display: table-cell;\">syncable&nbsp;=&nbsp;True,</div></div><div class=\"2172\" style=\"display: none;\"><div style=\"display: table-cell;\"></div><div style=\"display: table-cell;\">tags&nbsp;=&nbsp;[],</div></div><div class=\"2172\" style=\"display: none;\"><div style=\"display: table-cell;\"></div><div style=\"display: table-cell;\">visible&nbsp;=&nbsp;True,</div></div><div class=\"2172\" style=\"display: none;\"><div style=\"display: table-cell;\"></div><div style=\"display: table-cell;\">width&nbsp;=&nbsp;None,</div></div><div class=\"2172\" style=\"display: none;\"><div style=\"display: table-cell;\"></div><div style=\"display: table-cell;\">width_policy&nbsp;=&nbsp;'auto')</div></div></div>\n",
       "<script>\n",
       "(function() {\n",
       "  let expanded = false;\n",
       "  const ellipsis = document.getElementById(\"2173\");\n",
       "  ellipsis.addEventListener(\"click\", function() {\n",
       "    const rows = document.getElementsByClassName(\"2172\");\n",
       "    for (let i = 0; i < rows.length; i++) {\n",
       "      const el = rows[i];\n",
       "      el.style.display = expanded ? \"none\" : \"table-row\";\n",
       "    }\n",
       "    ellipsis.innerHTML = expanded ? \"&hellip;)\" : \"&lsaquo;&lsaquo;&lsaquo;\";\n",
       "    expanded = !expanded;\n",
       "  });\n",
       "})();\n",
       "</script>\n"
      ],
      "text/plain": [
       "Row(id='1455', ...)"
      ]
     },
     "execution_count": 12,
     "metadata": {},
     "output_type": "execute_result"
    }
   ],
   "source": [
    "bt.plot()"
   ]
  },
  {
   "cell_type": "code",
   "execution_count": null,
   "metadata": {},
   "outputs": [],
   "source": []
  }
 ],
 "metadata": {
  "kernelspec": {
   "display_name": "Python 3 (ipykernel)",
   "language": "python",
   "name": "python3"
  },
  "language_info": {
   "codemirror_mode": {
    "name": "ipython",
    "version": 3
   },
   "file_extension": ".py",
   "mimetype": "text/x-python",
   "name": "python",
   "nbconvert_exporter": "python",
   "pygments_lexer": "ipython3",
   "version": "3.8.16"
  }
 },
 "nbformat": 4,
 "nbformat_minor": 2
}
